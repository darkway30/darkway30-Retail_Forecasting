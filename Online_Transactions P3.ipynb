{
  "nbformat": 4,
  "nbformat_minor": 0,
  "metadata": {
    "colab": {
      "name": "Online Transactions",
      "provenance": [],
      "collapsed_sections": [],
      "authorship_tag": "ABX9TyMlJL4jQOiayZzONFaDt+uZ",
      "include_colab_link": true
    },
    "kernelspec": {
      "name": "python3",
      "display_name": "Python 3"
    }
  },
  "cells": [
    {
      "cell_type": "markdown",
      "metadata": {
        "id": "view-in-github",
        "colab_type": "text"
      },
      "source": [
        "<a href=\"https://colab.research.google.com/github/darkway30/darkway30-Retail_Forecasting/blob/master/Online_Transactions%20P3.ipynb\" target=\"_parent\"><img src=\"https://colab.research.google.com/assets/colab-badge.svg\" alt=\"Open In Colab\"/></a>"
      ]
    },
    {
      "cell_type": "code",
      "metadata": {
        "id": "sjMKnbm6QjUo"
      },
      "source": [
        "import numpy as np # Linear algebra\n",
        "import pandas as pd # Data processing, CSV file I/O (e.g. pd.read_csv)\n",
        "import matplotlib.pyplot as plt # Data visualization\n",
        "from sklearn.model_selection import TimeSeriesSplit\n",
        "from sklearn.preprocessing import StandardScaler\n",
        "from sklearn.cluster import KMeans"
      ],
      "execution_count": null,
      "outputs": []
    },
    {
      "cell_type": "markdown",
      "metadata": {
        "id": "VLod8ZiDU8kQ"
      },
      "source": [
        "Part one: We start Understaning our Data."
      ]
    },
    {
      "cell_type": "code",
      "metadata": {
        "id": "nVYtdykXRNGm"
      },
      "source": [
        "# Readin our CSV file trasactions to start analysing the prameters\n",
        "data = pd.read_csv('Online_Retail.csv', encoding = 'unicode_escape')\n"
      ],
      "execution_count": null,
      "outputs": []
    },
    {
      "cell_type": "code",
      "metadata": {
        "id": "ieBnJjULU4da",
        "colab": {
          "base_uri": "https://localhost:8080/",
          "height": 496
        },
        "outputId": "c8bf7fc3-2f97-435b-b92f-a93ec582a0bd"
      },
      "source": [
        "data.head()"
      ],
      "execution_count": null,
      "outputs": [
        {
          "output_type": "execute_result",
          "data": {
            "text/html": [
              "<div>\n",
              "<style scoped>\n",
              "    .dataframe tbody tr th:only-of-type {\n",
              "        vertical-align: middle;\n",
              "    }\n",
              "\n",
              "    .dataframe tbody tr th {\n",
              "        vertical-align: top;\n",
              "    }\n",
              "\n",
              "    .dataframe thead th {\n",
              "        text-align: right;\n",
              "    }\n",
              "</style>\n",
              "<table border=\"1\" class=\"dataframe\">\n",
              "  <thead>\n",
              "    <tr style=\"text-align: right;\">\n",
              "      <th></th>\n",
              "      <th>InvoiceNo</th>\n",
              "      <th>StockCode</th>\n",
              "      <th>Description</th>\n",
              "      <th>Quantity</th>\n",
              "      <th>InvoiceDate</th>\n",
              "      <th>UnitPrice</th>\n",
              "      <th>CustomerID</th>\n",
              "      <th>Country</th>\n",
              "      <th>SalesData</th>\n",
              "    </tr>\n",
              "  </thead>\n",
              "  <tbody>\n",
              "    <tr>\n",
              "      <th>0</th>\n",
              "      <td>536365</td>\n",
              "      <td>85123A</td>\n",
              "      <td>WHITE HANGING HEART T-LIGHT HOLDER</td>\n",
              "      <td>6</td>\n",
              "      <td>12/1/10 8:26</td>\n",
              "      <td>2.55</td>\n",
              "      <td>17850.0</td>\n",
              "      <td>United Kingdom</td>\n",
              "      <td>15.30</td>\n",
              "    </tr>\n",
              "    <tr>\n",
              "      <th>1</th>\n",
              "      <td>536365</td>\n",
              "      <td>71053</td>\n",
              "      <td>WHITE METAL LANTERN</td>\n",
              "      <td>6</td>\n",
              "      <td>12/1/10 8:26</td>\n",
              "      <td>3.39</td>\n",
              "      <td>17850.0</td>\n",
              "      <td>United Kingdom</td>\n",
              "      <td>20.34</td>\n",
              "    </tr>\n",
              "    <tr>\n",
              "      <th>2</th>\n",
              "      <td>536365</td>\n",
              "      <td>84406B</td>\n",
              "      <td>CREAM CUPID HEARTS COAT HANGER</td>\n",
              "      <td>8</td>\n",
              "      <td>12/1/10 8:26</td>\n",
              "      <td>2.75</td>\n",
              "      <td>17850.0</td>\n",
              "      <td>United Kingdom</td>\n",
              "      <td>22.00</td>\n",
              "    </tr>\n",
              "    <tr>\n",
              "      <th>3</th>\n",
              "      <td>536365</td>\n",
              "      <td>84029G</td>\n",
              "      <td>KNITTED UNION FLAG HOT WATER BOTTLE</td>\n",
              "      <td>6</td>\n",
              "      <td>12/1/10 8:26</td>\n",
              "      <td>3.39</td>\n",
              "      <td>17850.0</td>\n",
              "      <td>United Kingdom</td>\n",
              "      <td>20.34</td>\n",
              "    </tr>\n",
              "    <tr>\n",
              "      <th>4</th>\n",
              "      <td>536365</td>\n",
              "      <td>84029E</td>\n",
              "      <td>RED WOOLLY HOTTIE WHITE HEART.</td>\n",
              "      <td>6</td>\n",
              "      <td>12/1/10 8:26</td>\n",
              "      <td>3.39</td>\n",
              "      <td>17850.0</td>\n",
              "      <td>United Kingdom</td>\n",
              "      <td>20.34</td>\n",
              "    </tr>\n",
              "  </tbody>\n",
              "</table>\n",
              "</div>"
            ],
            "text/plain": [
              "  InvoiceNo StockCode  ...         Country  SalesData\n",
              "0    536365    85123A  ...  United Kingdom      15.30\n",
              "1    536365     71053  ...  United Kingdom      20.34\n",
              "2    536365    84406B  ...  United Kingdom      22.00\n",
              "3    536365    84029G  ...  United Kingdom      20.34\n",
              "4    536365    84029E  ...  United Kingdom      20.34\n",
              "\n",
              "[5 rows x 9 columns]"
            ]
          },
          "metadata": {
            "tags": []
          },
          "execution_count": 55
        }
      ]
    },
    {
      "cell_type": "code",
      "metadata": {
        "colab": {
          "base_uri": "https://localhost:8080/"
        },
        "id": "P5c-tmxpTSvw",
        "outputId": "8972a2ec-daf2-4170-9430-83cf20373950"
      },
      "source": [
        "# Whats the shape of our data\n",
        "# This Dataset contains 532619 rows and 8 columns\n",
        "data.shape"
      ],
      "execution_count": null,
      "outputs": [
        {
          "output_type": "execute_result",
          "data": {
            "text/plain": [
              "(541909, 8)"
            ]
          },
          "metadata": {
            "tags": []
          },
          "execution_count": 6
        }
      ]
    },
    {
      "cell_type": "code",
      "metadata": {
        "colab": {
          "base_uri": "https://localhost:8080/"
        },
        "id": "0KkUrCR9Td7a",
        "outputId": "f8a43c13-a077-4fe4-8231-e16df7ff361a"
      },
      "source": [
        "# Data information\n",
        "data.info()"
      ],
      "execution_count": null,
      "outputs": [
        {
          "output_type": "stream",
          "text": [
            "<class 'pandas.core.frame.DataFrame'>\n",
            "RangeIndex: 541909 entries, 0 to 541908\n",
            "Data columns (total 9 columns):\n",
            " #   Column       Non-Null Count   Dtype  \n",
            "---  ------       --------------   -----  \n",
            " 0   InvoiceNo    541909 non-null  object \n",
            " 1   StockCode    541909 non-null  object \n",
            " 2   Description  540455 non-null  object \n",
            " 3   Quantity     541909 non-null  int64  \n",
            " 4   InvoiceDate  541909 non-null  object \n",
            " 5   UnitPrice    541909 non-null  float64\n",
            " 6   CustomerID   406829 non-null  float64\n",
            " 7   Country      541909 non-null  object \n",
            " 8   SalesData    541909 non-null  float64\n",
            "dtypes: float64(3), int64(1), object(5)\n",
            "memory usage: 37.2+ MB\n"
          ],
          "name": "stdout"
        }
      ]
    },
    {
      "cell_type": "markdown",
      "metadata": {
        "id": "a-bqmGDYt4cq"
      },
      "source": [
        "From the data information insight InvoiceNo should be int64; there must be something incorrect with this variable. When attempting to use df.InvoiceNo.astype('int64') I receive an error. it's impossible to convert str into an int, meaning wrong listings in the data. "
      ]
    },
    {
      "cell_type": "markdown",
      "metadata": {
        "id": "O-Zmd9_0fCGL"
      },
      "source": [
        "We can recognize that there are 532619 entries from Data Information, and these are the transactions I'll try to analyze. \n",
        "There is two float type column ('UnitPrice', 'CustomerID)\n",
        "An integer type column ('Quantity'). \n",
        "Five object type column ('InvoiceNo',StockCode','Description','InvoiceDate','Country') "
      ]
    },
    {
      "cell_type": "code",
      "metadata": {
        "colab": {
          "base_uri": "https://localhost:8080/",
          "height": 297
        },
        "id": "ez6clR4YTxl5",
        "outputId": "9ae7dac9-f359-45ca-b559-e4e0bc8756cf"
      },
      "source": [
        "# Description to look for any Null Values before cleaning\n",
        "data.describe()"
      ],
      "execution_count": null,
      "outputs": [
        {
          "output_type": "execute_result",
          "data": {
            "text/html": [
              "<div>\n",
              "<style scoped>\n",
              "    .dataframe tbody tr th:only-of-type {\n",
              "        vertical-align: middle;\n",
              "    }\n",
              "\n",
              "    .dataframe tbody tr th {\n",
              "        vertical-align: top;\n",
              "    }\n",
              "\n",
              "    .dataframe thead th {\n",
              "        text-align: right;\n",
              "    }\n",
              "</style>\n",
              "<table border=\"1\" class=\"dataframe\">\n",
              "  <thead>\n",
              "    <tr style=\"text-align: right;\">\n",
              "      <th></th>\n",
              "      <th>Quantity</th>\n",
              "      <th>UnitPrice</th>\n",
              "      <th>CustomerID</th>\n",
              "      <th>SalesData</th>\n",
              "    </tr>\n",
              "  </thead>\n",
              "  <tbody>\n",
              "    <tr>\n",
              "      <th>count</th>\n",
              "      <td>541909.000000</td>\n",
              "      <td>541909.000000</td>\n",
              "      <td>406829.000000</td>\n",
              "      <td>541909.000000</td>\n",
              "    </tr>\n",
              "    <tr>\n",
              "      <th>mean</th>\n",
              "      <td>9.552250</td>\n",
              "      <td>4.611114</td>\n",
              "      <td>15287.690570</td>\n",
              "      <td>17.987795</td>\n",
              "    </tr>\n",
              "    <tr>\n",
              "      <th>std</th>\n",
              "      <td>218.081158</td>\n",
              "      <td>96.759853</td>\n",
              "      <td>1713.600303</td>\n",
              "      <td>378.810824</td>\n",
              "    </tr>\n",
              "    <tr>\n",
              "      <th>min</th>\n",
              "      <td>-80995.000000</td>\n",
              "      <td>-11062.060000</td>\n",
              "      <td>12346.000000</td>\n",
              "      <td>-168469.600000</td>\n",
              "    </tr>\n",
              "    <tr>\n",
              "      <th>25%</th>\n",
              "      <td>1.000000</td>\n",
              "      <td>1.250000</td>\n",
              "      <td>13953.000000</td>\n",
              "      <td>3.400000</td>\n",
              "    </tr>\n",
              "    <tr>\n",
              "      <th>50%</th>\n",
              "      <td>3.000000</td>\n",
              "      <td>2.080000</td>\n",
              "      <td>15152.000000</td>\n",
              "      <td>9.750000</td>\n",
              "    </tr>\n",
              "    <tr>\n",
              "      <th>75%</th>\n",
              "      <td>10.000000</td>\n",
              "      <td>4.130000</td>\n",
              "      <td>16791.000000</td>\n",
              "      <td>17.400000</td>\n",
              "    </tr>\n",
              "    <tr>\n",
              "      <th>max</th>\n",
              "      <td>80995.000000</td>\n",
              "      <td>38970.000000</td>\n",
              "      <td>18287.000000</td>\n",
              "      <td>168469.600000</td>\n",
              "    </tr>\n",
              "  </tbody>\n",
              "</table>\n",
              "</div>"
            ],
            "text/plain": [
              "            Quantity      UnitPrice     CustomerID      SalesData\n",
              "count  541909.000000  541909.000000  406829.000000  541909.000000\n",
              "mean        9.552250       4.611114   15287.690570      17.987795\n",
              "std       218.081158      96.759853    1713.600303     378.810824\n",
              "min    -80995.000000  -11062.060000   12346.000000 -168469.600000\n",
              "25%         1.000000       1.250000   13953.000000       3.400000\n",
              "50%         3.000000       2.080000   15152.000000       9.750000\n",
              "75%        10.000000       4.130000   16791.000000      17.400000\n",
              "max     80995.000000   38970.000000   18287.000000  168469.600000"
            ]
          },
          "metadata": {
            "tags": []
          },
          "execution_count": 58
        }
      ]
    },
    {
      "cell_type": "code",
      "metadata": {
        "id": "wOP6sHaoVwF8",
        "colab": {
          "base_uri": "https://localhost:8080/"
        },
        "outputId": "f0ec7a06-89cc-4ea2-9405-000234f03734"
      },
      "source": [
        "Null_percentage = data.isnull().sum() / data.shape[0] * 100\n",
        "Null_percentage"
      ],
      "execution_count": null,
      "outputs": [
        {
          "output_type": "execute_result",
          "data": {
            "text/plain": [
              "InvoiceNo       0.000000\n",
              "StockCode       0.000000\n",
              "Description     0.268311\n",
              "Quantity        0.000000\n",
              "InvoiceDate     0.000000\n",
              "UnitPrice       0.000000\n",
              "CustomerID     24.926694\n",
              "Country         0.000000\n",
              "dtype: float64"
            ]
          },
          "metadata": {
            "tags": []
          },
          "execution_count": 7
        }
      ]
    },
    {
      "cell_type": "markdown",
      "metadata": {
        "id": "K6HpZvWygf8g"
      },
      "source": [
        "Approximately 25 % of the customers are unknown or Null, and 0.2% items were missing; these values that we'll have to remove to better understand the actual data. "
      ]
    },
    {
      "cell_type": "code",
      "metadata": {
        "id": "nDr_8eidVI9S",
        "colab": {
          "base_uri": "https://localhost:8080/"
        },
        "outputId": "f703da99-0bfe-4d28-f894-c413b200cf85"
      },
      "source": [
        "# now we can get an idea about the actual numbers\n",
        "data.isnull().sum().sort_values(ascending=False)"
      ],
      "execution_count": null,
      "outputs": [
        {
          "output_type": "execute_result",
          "data": {
            "text/plain": [
              "CustomerID     135080\n",
              "Description      1454\n",
              "Country             0\n",
              "UnitPrice           0\n",
              "InvoiceDate         0\n",
              "Quantity            0\n",
              "StockCode           0\n",
              "InvoiceNo           0\n",
              "dtype: int64"
            ]
          },
          "metadata": {
            "tags": []
          },
          "execution_count": 8
        }
      ]
    },
    {
      "cell_type": "markdown",
      "metadata": {
        "id": "YuoWbLc2hHhJ"
      },
      "source": [
        "With this information, we need to point to the business owner that we're missing a lot 25% is an immense value to miss. Something they can work on recovering."
      ]
    },
    {
      "cell_type": "markdown",
      "metadata": {
        "id": "8Sye9Cnvh0UI"
      },
      "source": [
        "We move to the next step: Cleaning our data to be more comfortable and more precise to analyze."
      ]
    },
    {
      "cell_type": "code",
      "metadata": {
        "id": "-1KjTsBC4z0X",
        "colab": {
          "base_uri": "https://localhost:8080/"
        },
        "outputId": "5b1d42c9-0a03-4b61-a4a4-9408c9b05109"
      },
      "source": [
        "# Remving the missing values with Panda Drop format\n",
        "data = data.dropna()\n",
        "data.shape"
      ],
      "execution_count": null,
      "outputs": [
        {
          "output_type": "execute_result",
          "data": {
            "text/plain": [
              "(406829, 8)"
            ]
          },
          "metadata": {
            "tags": []
          },
          "execution_count": 9
        }
      ]
    },
    {
      "cell_type": "code",
      "metadata": {
        "colab": {
          "base_uri": "https://localhost:8080/"
        },
        "id": "HPZlQF1vjtoX",
        "outputId": "a4bf4654-569e-4bba-eed5-a6cce2531705"
      },
      "source": [
        "# making sure that our data is not missing in more values\n",
        "data.isnull().sum().sum()"
      ],
      "execution_count": null,
      "outputs": [
        {
          "output_type": "execute_result",
          "data": {
            "text/plain": [
              "0"
            ]
          },
          "metadata": {
            "tags": []
          },
          "execution_count": 62
        }
      ]
    },
    {
      "cell_type": "markdown",
      "metadata": {
        "id": "KxwOM_Xnkq54"
      },
      "source": [
        "Part three: let's explore our parameters\n",
        "Countries/Stock that we can Visualize later to understand the countries we should focus on and the Items sold."
      ]
    },
    {
      "cell_type": "markdown",
      "metadata": {
        "id": "yA3a2ao8w32R"
      },
      "source": [
        "Analyzing Customers  based on orders:\n",
        "\n",
        "1) Invoices\n",
        "2) Items prusched\n",
        "3) Item describtion\n",
        "4) Recent order made per customer"
      ]
    },
    {
      "cell_type": "code",
      "metadata": {
        "colab": {
          "base_uri": "https://localhost:8080/"
        },
        "id": "FZBlk5bfk3Ie",
        "outputId": "43edd16f-a71f-4f02-8d0f-14f41a6946d1"
      },
      "source": [
        "# How many Unique Invoices made in our 40+ Data\n",
        "data.InvoiceNo.nunique()"
      ],
      "execution_count": null,
      "outputs": [
        {
          "output_type": "execute_result",
          "data": {
            "text/plain": [
              "22190"
            ]
          },
          "metadata": {
            "tags": []
          },
          "execution_count": 63
        }
      ]
    },
    {
      "cell_type": "markdown",
      "metadata": {
        "id": "FxVAGeyew-B1"
      },
      "source": [
        "Stock items"
      ]
    },
    {
      "cell_type": "code",
      "metadata": {
        "colab": {
          "base_uri": "https://localhost:8080/"
        },
        "id": "WGHtWdmtxB86",
        "outputId": "60b9bf34-14ed-47c1-d8ae-ca37194c6578"
      },
      "source": [
        "# How many Unique Items(Stock Code) made in our 40+ Data\n",
        "data.StockCode.nunique()\n"
      ],
      "execution_count": null,
      "outputs": [
        {
          "output_type": "execute_result",
          "data": {
            "text/plain": [
              "3684"
            ]
          },
          "metadata": {
            "tags": []
          },
          "execution_count": 79
        }
      ]
    },
    {
      "cell_type": "code",
      "metadata": {
        "id": "b1c9U35F6PRf"
      },
      "source": [
        "StockCodes = data.StockCode.value_counts().sort_values(ascending=False)"
      ],
      "execution_count": null,
      "outputs": []
    },
    {
      "cell_type": "markdown",
      "metadata": {
        "id": "snnYZxoO52E9"
      },
      "source": [
        "Plotting the most common StockCodes"
      ]
    },
    {
      "cell_type": "code",
      "metadata": {
        "colab": {
          "base_uri": "https://localhost:8080/",
          "height": 401
        },
        "id": "uQMm9UyQ5zAz",
        "outputId": "d179ca46-4573-4429-8f3b-a4738edf5b93"
      },
      "source": [
        "plt.subplots(figsize=(25,15))\n",
        "Z =sns.barplot(x = StockCodes.iloc[0:20].index, y=  StockCodes.iloc[0:20].values, palette=\"cividis\")\n",
        "plt.ylabel(\"Counts\", color = 'green', fontsize= 20)\n",
        "plt.xlabel(\"Stockcode\",color = 'green', fontsize= 20)\n",
        "plt.title(\" Most stockcodes Sold\", fontsize = 25);"
      ],
      "execution_count": null,
      "outputs": [
        {
          "output_type": "display_data",
          "data": {
            "image/png": "[encoded data removed]",
            "text/plain": [
              "<Figure size 1800x1080 with 1 Axes>"
            ]
          },
          "metadata": {
            "tags": [],
            "needs_background": "light"
          }
        }
      ]
    },
    {
      "cell_type": "code",
      "metadata": {
        "colab": {
          "base_uri": "https://localhost:8080/",
          "height": 17
        },
        "id": "3A2PqoqyieYn",
        "outputId": "4084a4a1-39b1-47c3-fe51-c6dc95043807"
      },
      "source": [
        "Z.figure.savefig('Most stockcodes Sold.png')\n",
        "files.download('Most stockcodes Sold.png')"
      ],
      "execution_count": null,
      "outputs": [
        {
          "output_type": "display_data",
          "data": {
            "application/javascript": [
              "\n",
              "    async function download(id, filename, size) {\n",
              "      if (!google.colab.kernel.accessAllowed) {\n",
              "        return;\n",
              "      }\n",
              "      const div = document.createElement('div');\n",
              "      const label = document.createElement('label');\n",
              "      label.textContent = `Downloading \"${filename}\": `;\n",
              "      div.appendChild(label);\n",
              "      const progress = document.createElement('progress');\n",
              "      progress.max = size;\n",
              "      div.appendChild(progress);\n",
              "      document.body.appendChild(div);\n",
              "\n",
              "      const buffers = [];\n",
              "      let downloaded = 0;\n",
              "\n",
              "      const channel = await google.colab.kernel.comms.open(id);\n",
              "      // Send a message to notify the kernel that we're ready.\n",
              "      channel.send({})\n",
              "\n",
              "      for await (const message of channel.messages) {\n",
              "        // Send a message to notify the kernel that we're ready.\n",
              "        channel.send({})\n",
              "        if (message.buffers) {\n",
              "          for (const buffer of message.buffers) {\n",
              "            buffers.push(buffer);\n",
              "            downloaded += buffer.byteLength;\n",
              "            progress.value = downloaded;\n",
              "          }\n",
              "        }\n",
              "      }\n",
              "      const blob = new Blob(buffers, {type: 'application/binary'});\n",
              "      const a = document.createElement('a');\n",
              "      a.href = window.URL.createObjectURL(blob);\n",
              "      a.download = filename;\n",
              "      div.appendChild(a);\n",
              "      a.click();\n",
              "      div.remove();\n",
              "    }\n",
              "  "
            ],
            "text/plain": [
              "<IPython.core.display.Javascript object>"
            ]
          },
          "metadata": {
            "tags": []
          }
        },
        {
          "output_type": "display_data",
          "data": {
            "application/javascript": [
              "download(\"download_90414014-76af-42d6-a16d-d9d82237afbf\", \"Most stockcodes Sold.png\", 33673)"
            ],
            "text/plain": [
              "<IPython.core.display.Javascript object>"
            ]
          },
          "metadata": {
            "tags": []
          }
        }
      ]
    },
    {
      "cell_type": "markdown",
      "metadata": {
        "id": "U-XAkdc5x3I9"
      },
      "source": [
        "Descriptions"
      ]
    },
    {
      "cell_type": "code",
      "metadata": {
        "colab": {
          "base_uri": "https://localhost:8080/"
        },
        "id": "Gulbo5Y9x7S1",
        "outputId": "bbb79018-062a-4dbb-a184-9b575061dd17"
      },
      "source": [
        "data.Description.nunique()"
      ],
      "execution_count": null,
      "outputs": [
        {
          "output_type": "execute_result",
          "data": {
            "text/plain": [
              "3896"
            ]
          },
          "metadata": {
            "tags": []
          },
          "execution_count": 65
        }
      ]
    },
    {
      "cell_type": "code",
      "metadata": {
        "id": "MgGbVhm1kRp6"
      },
      "source": [
        "ItemName = data.Description.value_counts().sort_values(ascending=False)"
      ],
      "execution_count": null,
      "outputs": []
    },
    {
      "cell_type": "code",
      "metadata": {
        "colab": {
          "base_uri": "https://localhost:8080/",
          "height": 598
        },
        "id": "c7YttguvjRbA",
        "outputId": "3cecfdae-7815-470a-a023-2f0314804c5b"
      },
      "source": [
        "plt.subplots(figsize=(20,15))\n",
        "Z1 =sns.barplot(x = ItemName.iloc[0:15].index, y= ItemName.iloc[0:15].values, palette=\"gnuplot\")\n",
        "plt.ylabel(\"Counts\", color = 'red', fontsize= 20)\n",
        "plt.xlabel(\"Description\",color = 'red', fontsize= 25)\n",
        "plt.title(\" Top Descriptions in Our Database\", fontsize = 25)\n",
        "plt.xticks(rotation=90);"
      ],
      "execution_count": null,
      "outputs": [
        {
          "output_type": "display_data",
          "data": {
            "image/png": "[encoded data removed]",
            "text/plain": [
              "<Figure size 1440x1080 with 1 Axes>"
            ]
          },
          "metadata": {
            "tags": [],
            "needs_background": "light"
          }
        }
      ]
    },
    {
      "cell_type": "code",
      "metadata": {
        "colab": {
          "base_uri": "https://localhost:8080/",
          "height": 17
        },
        "id": "nxGB0lNglMOn",
        "outputId": "555a3c4b-a021-47f8-95db-b6c04395e653"
      },
      "source": [
        "Z1.figure.savefig('TopDes.png')\n",
        "files.download('TopDes.png')"
      ],
      "execution_count": null,
      "outputs": [
        {
          "output_type": "display_data",
          "data": {
            "application/javascript": [
              "\n",
              "    async function download(id, filename, size) {\n",
              "      if (!google.colab.kernel.accessAllowed) {\n",
              "        return;\n",
              "      }\n",
              "      const div = document.createElement('div');\n",
              "      const label = document.createElement('label');\n",
              "      label.textContent = `Downloading \"${filename}\": `;\n",
              "      div.appendChild(label);\n",
              "      const progress = document.createElement('progress');\n",
              "      progress.max = size;\n",
              "      div.appendChild(progress);\n",
              "      document.body.appendChild(div);\n",
              "\n",
              "      const buffers = [];\n",
              "      let downloaded = 0;\n",
              "\n",
              "      const channel = await google.colab.kernel.comms.open(id);\n",
              "      // Send a message to notify the kernel that we're ready.\n",
              "      channel.send({})\n",
              "\n",
              "      for await (const message of channel.messages) {\n",
              "        // Send a message to notify the kernel that we're ready.\n",
              "        channel.send({})\n",
              "        if (message.buffers) {\n",
              "          for (const buffer of message.buffers) {\n",
              "            buffers.push(buffer);\n",
              "            downloaded += buffer.byteLength;\n",
              "            progress.value = downloaded;\n",
              "          }\n",
              "        }\n",
              "      }\n",
              "      const blob = new Blob(buffers, {type: 'application/binary'});\n",
              "      const a = document.createElement('a');\n",
              "      a.href = window.URL.createObjectURL(blob);\n",
              "      a.download = filename;\n",
              "      div.appendChild(a);\n",
              "      a.click();\n",
              "      div.remove();\n",
              "    }\n",
              "  "
            ],
            "text/plain": [
              "<IPython.core.display.Javascript object>"
            ]
          },
          "metadata": {
            "tags": []
          }
        },
        {
          "output_type": "display_data",
          "data": {
            "application/javascript": [
              "download(\"download_1089cd5f-496e-4694-bf0a-2e0606090bfb\", \"TopDes.png\", 51897)"
            ],
            "text/plain": [
              "<IPython.core.display.Javascript object>"
            ]
          },
          "metadata": {
            "tags": []
          }
        }
      ]
    },
    {
      "cell_type": "markdown",
      "metadata": {
        "id": "CI86Ph966t_2"
      },
      "source": [
        "Since we have only 22190 Unique invoices, let's analyze our customers and look at their total number of transactions made this year and their last purchase.\n",
        "However, in a later step, a NaN Description shows us a failed transaction, so we will have to deal with NaN values to analyze our customers better."
      ]
    },
    {
      "cell_type": "code",
      "metadata": {
        "id": "J27sq9wvvSSj"
      },
      "source": [
        "# Changing our CustomerID data to get a more accurate results."
      ],
      "execution_count": null,
      "outputs": []
    },
    {
      "cell_type": "code",
      "metadata": {
        "id": "MDiBbxJ7vi50"
      },
      "source": [
        "data['CustomerID'] = data['CustomerID'].astype(str)"
      ],
      "execution_count": null,
      "outputs": []
    },
    {
      "cell_type": "markdown",
      "metadata": {
        "id": "aj2nSXKIFM-g"
      },
      "source": [
        "The top 20 Customers with most numbers of trasactions"
      ]
    },
    {
      "cell_type": "code",
      "metadata": {
        "colab": {
          "base_uri": "https://localhost:8080/"
        },
        "id": "-T5HZtS8FMYd",
        "outputId": "e1844ac7-a7e9-4c2a-d6da-3e1e9ba57cd2"
      },
      "source": [
        "data.CustomerID.nunique()"
      ],
      "execution_count": null,
      "outputs": [
        {
          "output_type": "execute_result",
          "data": {
            "text/plain": [
              "4372"
            ]
          },
          "metadata": {
            "tags": []
          },
          "execution_count": 104
        }
      ]
    },
    {
      "cell_type": "code",
      "metadata": {
        "id": "UlNDuKHsFjPl"
      },
      "source": [
        "TopC = data.CustomerID.value_counts().sort_values(ascending=False)"
      ],
      "execution_count": null,
      "outputs": []
    },
    {
      "cell_type": "code",
      "metadata": {
        "colab": {
          "base_uri": "https://localhost:8080/",
          "height": 396
        },
        "id": "HWSlwsxWFtCt",
        "outputId": "b0c89f85-8818-45dd-ee29-e712adbcaf5c"
      },
      "source": [
        "plt.subplots(figsize=(25,15))\n",
        "z = sns.barplot(x = TopC.iloc[0:20].index, y= TopC.iloc[0:20].values, palette=\"Spectral\")\n",
        "plt.ylabel(\"Counts\")\n",
        "plt.xlabel(\"CustomerID\")\n",
        "plt.title(\" Top 20 Customers using our store\");"
      ],
      "execution_count": null,
      "outputs": [
        {
          "output_type": "display_data",
          "data": {
            "image/png": "[encoded data removed]",
            "text/plain": [
              "<Figure size 1800x1080 with 1 Axes>"
            ]
          },
          "metadata": {
            "tags": [],
            "needs_background": "light"
          }
        }
      ]
    },
    {
      "cell_type": "code",
      "metadata": {
        "colab": {
          "base_uri": "https://localhost:8080/",
          "height": 17
        },
        "id": "At_2QGseaHPL",
        "outputId": "3e9f3062-4b07-496a-8bdb-f9bb8af65540"
      },
      "source": [
        "z.figure.savefig('Top20Customers.png')\n",
        "files.download('Top20Customers.png')"
      ],
      "execution_count": null,
      "outputs": [
        {
          "output_type": "display_data",
          "data": {
            "application/javascript": [
              "\n",
              "    async function download(id, filename, size) {\n",
              "      if (!google.colab.kernel.accessAllowed) {\n",
              "        return;\n",
              "      }\n",
              "      const div = document.createElement('div');\n",
              "      const label = document.createElement('label');\n",
              "      label.textContent = `Downloading \"${filename}\": `;\n",
              "      div.appendChild(label);\n",
              "      const progress = document.createElement('progress');\n",
              "      progress.max = size;\n",
              "      div.appendChild(progress);\n",
              "      document.body.appendChild(div);\n",
              "\n",
              "      const buffers = [];\n",
              "      let downloaded = 0;\n",
              "\n",
              "      const channel = await google.colab.kernel.comms.open(id);\n",
              "      // Send a message to notify the kernel that we're ready.\n",
              "      channel.send({})\n",
              "\n",
              "      for await (const message of channel.messages) {\n",
              "        // Send a message to notify the kernel that we're ready.\n",
              "        channel.send({})\n",
              "        if (message.buffers) {\n",
              "          for (const buffer of message.buffers) {\n",
              "            buffers.push(buffer);\n",
              "            downloaded += buffer.byteLength;\n",
              "            progress.value = downloaded;\n",
              "          }\n",
              "        }\n",
              "      }\n",
              "      const blob = new Blob(buffers, {type: 'application/binary'});\n",
              "      const a = document.createElement('a');\n",
              "      a.href = window.URL.createObjectURL(blob);\n",
              "      a.download = filename;\n",
              "      div.appendChild(a);\n",
              "      a.click();\n",
              "      div.remove();\n",
              "    }\n",
              "  "
            ],
            "text/plain": [
              "<IPython.core.display.Javascript object>"
            ]
          },
          "metadata": {
            "tags": []
          }
        },
        {
          "output_type": "display_data",
          "data": {
            "application/javascript": [
              "download(\"download_080a023a-8a0c-4080-bf61-17f1eb278784\", \"Top20Customers.png\", 27814)"
            ],
            "text/plain": [
              "<IPython.core.display.Javascript object>"
            ]
          },
          "metadata": {
            "tags": []
          }
        }
      ]
    },
    {
      "cell_type": "code",
      "metadata": {
        "id": "lbwDfE-gotu4"
      },
      "source": [
        "# amount = [the items sold] x [price]\n",
        "data['Amount'] = data['Quantity']*data['UnitPrice']\n",
        "# pandas. DataFrame. groupby to sum our to values\n",
        "total_t = data.groupby('CustomerID')['Amount'].sum()"
      ],
      "execution_count": null,
      "outputs": []
    },
    {
      "cell_type": "code",
      "metadata": {
        "colab": {
          "base_uri": "https://localhost:8080/",
          "height": 396
        },
        "id": "89TqIdLmamoj",
        "outputId": "2d2f5434-79d0-4b74-c4a2-db9c511d523b"
      },
      "source": [
        "# top sales made per customers\n",
        "plt.subplots(figsize=(25,15))\n",
        "z = sns.barplot(x = total_t.iloc[1:20].index, y= total_t.iloc[1:20].values, palette=\"gnuplot2\")\n",
        "plt.ylabel(\"Counts\")\n",
        "plt.xlabel(\"CustomerID\")\n",
        "plt.title(\" Top Sales per Customers\");"
      ],
      "execution_count": null,
      "outputs": [
        {
          "output_type": "display_data",
          "data": {
            "image/png": "[encoded data removed]",
            "text/plain": [
              "<Figure size 1800x1080 with 1 Axes>"
            ]
          },
          "metadata": {
            "tags": [],
            "needs_background": "light"
          }
        }
      ]
    },
    {
      "cell_type": "code",
      "metadata": {
        "colab": {
          "base_uri": "https://localhost:8080/",
          "height": 17
        },
        "id": "Gag1cFd1bLxY",
        "outputId": "8ec99068-927c-402f-d618-e1c18ac965a6"
      },
      "source": [
        "z.figure.savefig('CustomersDistr.png')\n",
        "files.download('CustomersDistr.png')"
      ],
      "execution_count": null,
      "outputs": [
        {
          "output_type": "display_data",
          "data": {
            "application/javascript": [
              "\n",
              "    async function download(id, filename, size) {\n",
              "      if (!google.colab.kernel.accessAllowed) {\n",
              "        return;\n",
              "      }\n",
              "      const div = document.createElement('div');\n",
              "      const label = document.createElement('label');\n",
              "      label.textContent = `Downloading \"${filename}\": `;\n",
              "      div.appendChild(label);\n",
              "      const progress = document.createElement('progress');\n",
              "      progress.max = size;\n",
              "      div.appendChild(progress);\n",
              "      document.body.appendChild(div);\n",
              "\n",
              "      const buffers = [];\n",
              "      let downloaded = 0;\n",
              "\n",
              "      const channel = await google.colab.kernel.comms.open(id);\n",
              "      // Send a message to notify the kernel that we're ready.\n",
              "      channel.send({})\n",
              "\n",
              "      for await (const message of channel.messages) {\n",
              "        // Send a message to notify the kernel that we're ready.\n",
              "        channel.send({})\n",
              "        if (message.buffers) {\n",
              "          for (const buffer of message.buffers) {\n",
              "            buffers.push(buffer);\n",
              "            downloaded += buffer.byteLength;\n",
              "            progress.value = downloaded;\n",
              "          }\n",
              "        }\n",
              "      }\n",
              "      const blob = new Blob(buffers, {type: 'application/binary'});\n",
              "      const a = document.createElement('a');\n",
              "      a.href = window.URL.createObjectURL(blob);\n",
              "      a.download = filename;\n",
              "      div.appendChild(a);\n",
              "      a.click();\n",
              "      div.remove();\n",
              "    }\n",
              "  "
            ],
            "text/plain": [
              "<IPython.core.display.Javascript object>"
            ]
          },
          "metadata": {
            "tags": []
          }
        },
        {
          "output_type": "display_data",
          "data": {
            "application/javascript": [
              "download(\"download_fa86898a-3e71-4226-ba20-76450ca9c946\", \"CustomersDistr.png\", 23591)"
            ],
            "text/plain": [
              "<IPython.core.display.Javascript object>"
            ]
          },
          "metadata": {
            "tags": []
          }
        }
      ]
    },
    {
      "cell_type": "code",
      "metadata": {
        "colab": {
          "base_uri": "https://localhost:8080/",
          "height": 204
        },
        "id": "i1ogqlkSq69I",
        "outputId": "40367114-8018-446c-bd59-cc6ec6363073"
      },
      "source": [
        "# let's explore our first attribute\n",
        "total_t.head()\n"
      ],
      "execution_count": null,
      "outputs": [
        {
          "output_type": "execute_result",
          "data": {
            "text/html": [
              "<div>\n",
              "<style scoped>\n",
              "    .dataframe tbody tr th:only-of-type {\n",
              "        vertical-align: middle;\n",
              "    }\n",
              "\n",
              "    .dataframe tbody tr th {\n",
              "        vertical-align: top;\n",
              "    }\n",
              "\n",
              "    .dataframe thead th {\n",
              "        text-align: right;\n",
              "    }\n",
              "</style>\n",
              "<table border=\"1\" class=\"dataframe\">\n",
              "  <thead>\n",
              "    <tr style=\"text-align: right;\">\n",
              "      <th></th>\n",
              "      <th>CustomerID</th>\n",
              "      <th>Amount</th>\n",
              "    </tr>\n",
              "  </thead>\n",
              "  <tbody>\n",
              "    <tr>\n",
              "      <th>0</th>\n",
              "      <td>12346.0</td>\n",
              "      <td>0.00</td>\n",
              "    </tr>\n",
              "    <tr>\n",
              "      <th>1</th>\n",
              "      <td>12347.0</td>\n",
              "      <td>4310.00</td>\n",
              "    </tr>\n",
              "    <tr>\n",
              "      <th>2</th>\n",
              "      <td>12348.0</td>\n",
              "      <td>1797.24</td>\n",
              "    </tr>\n",
              "    <tr>\n",
              "      <th>3</th>\n",
              "      <td>12349.0</td>\n",
              "      <td>1757.55</td>\n",
              "    </tr>\n",
              "    <tr>\n",
              "      <th>4</th>\n",
              "      <td>12350.0</td>\n",
              "      <td>334.40</td>\n",
              "    </tr>\n",
              "  </tbody>\n",
              "</table>\n",
              "</div>"
            ],
            "text/plain": [
              "  CustomerID   Amount\n",
              "0    12346.0     0.00\n",
              "1    12347.0  4310.00\n",
              "2    12348.0  1797.24\n",
              "3    12349.0  1757.55\n",
              "4    12350.0   334.40"
            ]
          },
          "metadata": {
            "tags": []
          },
          "execution_count": 68
        }
      ]
    },
    {
      "cell_type": "markdown",
      "metadata": {
        "id": "WuLz1ZNQBMmY"
      },
      "source": [
        "We'll go more in-depth with our data to pinpoint the transactions flow: Countries, Customers, and items.\n",
        "This method can help us with our Time Series report for a specific country or region. \n"
      ]
    },
    {
      "cell_type": "markdown",
      "metadata": {
        "id": "WWarTORwUdQ2"
      },
      "source": [
        "Focusing on the top Countries and the most Items sold"
      ]
    },
    {
      "cell_type": "code",
      "metadata": {
        "id": "OV_Z-lzuTbyp"
      },
      "source": [
        "# checking the different values for the top 20 countries\n",
        "Top20UK = data['Country'].value_counts().head(2)"
      ],
      "execution_count": null,
      "outputs": []
    },
    {
      "cell_type": "code",
      "metadata": {
        "colab": {
          "base_uri": "https://localhost:8080/",
          "height": 473
        },
        "id": "yYPDBYjxs_9q",
        "outputId": "b0348145-56f4-424d-9c8c-c1e458f61ed3"
      },
      "source": [
        "plt.rcParams['figure.figsize'] = (13, 10)\n",
        "z= sns.barplot(x = Top20UK.values, y = Top20UK.index, palette = 'Dark2')\n",
        "plt.title('Top 20 Countries with UK', fontsize = 20)\n",
        "plt.xlabel('Names of Countries')\n",
        "plt.ylabel('Count')\n",
        "plt.show()"
      ],
      "execution_count": null,
      "outputs": [
        {
          "output_type": "display_data",
          "data": {
            "image/png": "[encoded data removed]",
            "text/plain": [
              "<Figure size 936x720 with 1 Axes>"
            ]
          },
          "metadata": {
            "tags": [],
            "needs_background": "light"
          }
        }
      ]
    },
    {
      "cell_type": "code",
      "metadata": {
        "colab": {
          "base_uri": "https://localhost:8080/",
          "height": 17
        },
        "id": "5rGFY9MaXKQa",
        "outputId": "78cd8e69-2d5e-4e42-dde3-098e7912a731"
      },
      "source": [
        "from google.colab import files\n",
        "z.figure.savefig('Top20CountriesW-UK.png')\n",
        "files.download('Top20CountriesW-UK.png')"
      ],
      "execution_count": null,
      "outputs": [
        {
          "output_type": "display_data",
          "data": {
            "application/javascript": [
              "\n",
              "    async function download(id, filename, size) {\n",
              "      if (!google.colab.kernel.accessAllowed) {\n",
              "        return;\n",
              "      }\n",
              "      const div = document.createElement('div');\n",
              "      const label = document.createElement('label');\n",
              "      label.textContent = `Downloading \"${filename}\": `;\n",
              "      div.appendChild(label);\n",
              "      const progress = document.createElement('progress');\n",
              "      progress.max = size;\n",
              "      div.appendChild(progress);\n",
              "      document.body.appendChild(div);\n",
              "\n",
              "      const buffers = [];\n",
              "      let downloaded = 0;\n",
              "\n",
              "      const channel = await google.colab.kernel.comms.open(id);\n",
              "      // Send a message to notify the kernel that we're ready.\n",
              "      channel.send({})\n",
              "\n",
              "      for await (const message of channel.messages) {\n",
              "        // Send a message to notify the kernel that we're ready.\n",
              "        channel.send({})\n",
              "        if (message.buffers) {\n",
              "          for (const buffer of message.buffers) {\n",
              "            buffers.push(buffer);\n",
              "            downloaded += buffer.byteLength;\n",
              "            progress.value = downloaded;\n",
              "          }\n",
              "        }\n",
              "      }\n",
              "      const blob = new Blob(buffers, {type: 'application/binary'});\n",
              "      const a = document.createElement('a');\n",
              "      a.href = window.URL.createObjectURL(blob);\n",
              "      a.download = filename;\n",
              "      div.appendChild(a);\n",
              "      a.click();\n",
              "      div.remove();\n",
              "    }\n",
              "  "
            ],
            "text/plain": [
              "<IPython.core.display.Javascript object>"
            ]
          },
          "metadata": {
            "tags": []
          }
        },
        {
          "output_type": "display_data",
          "data": {
            "application/javascript": [
              "download(\"download_276280e3-e220-4034-89d5-6f8f6305c261\", \"Top20CountriesW-UK.png\", 29434)"
            ],
            "text/plain": [
              "<IPython.core.display.Javascript object>"
            ]
          },
          "metadata": {
            "tags": []
          }
        }
      ]
    },
    {
      "cell_type": "markdown",
      "metadata": {
        "id": "eybk5CMYvRZD"
      },
      "source": [
        "Let's focus without UK"
      ]
    },
    {
      "cell_type": "markdown",
      "metadata": {
        "id": "KoEoCeMfUni_"
      },
      "source": [
        "Most Items sold to each Country: Top 20"
      ]
    },
    {
      "cell_type": "code",
      "metadata": {
        "colab": {
          "base_uri": "https://localhost:8080/"
        },
        "id": "X4a4XmDnUrUe",
        "outputId": "8ab3e3b9-5813-4e93-a5d1-a26f6596fe66"
      },
      "source": [
        "# TopQ20 variable will store the most items sold to the top 20 Countries\n",
        "# not including UK, we will analyze UK sales later on\n",
        "TopQ20 = data['Quantity'].groupby(data['Country']).agg('sum').sort_values(ascending = False)[1:21]\n",
        "print(TopQ20)"
      ],
      "execution_count": null,
      "outputs": [
        {
          "output_type": "stream",
          "text": [
            "Country\n",
            "Netherlands        200128\n",
            "EIRE               142637\n",
            "Germany            117448\n",
            "France             110480\n",
            "Australia           83653\n",
            "Sweden              35637\n",
            "Switzerland         30325\n",
            "Spain               26824\n",
            "Japan               25218\n",
            "Belgium             23152\n",
            "Norway              19247\n",
            "Portugal            16180\n",
            "Finland             10666\n",
            "Channel Islands      9479\n",
            "Denmark              8188\n",
            "Italy                7999\n",
            "Cyprus               6317\n",
            "Singapore            5234\n",
            "Austria              4827\n",
            "Hong Kong            4769\n",
            "Name: Quantity, dtype: int64\n"
          ],
          "name": "stdout"
        }
      ]
    },
    {
      "cell_type": "code",
      "metadata": {
        "colab": {
          "base_uri": "https://localhost:8080/",
          "height": 490
        },
        "id": "kCKPDO8loyE7",
        "outputId": "2cd71bac-86de-4edc-b6bf-ad08ebf75b86"
      },
      "source": [
        "# now let us plot our top 20 Countries using our online store\n",
        "# that will help us when reporting (using barplot)\n",
        "# storing our top countries in 'top20' and then plot it\n",
        "import seaborn as sns\n",
        "plt.rcParams['figure.figsize'] = (12, 10)\n",
        "top20 = data['Quantity'].groupby(data['Country']).agg('sum').sort_values(ascending = False)[1:21]\n",
        "z= sns.barplot(x = top20.values, y = top20.index, palette = 'Dark2_r')\n",
        "plt.title('Most Sales (No UK)', fontsize = 20)\n",
        "plt.xlabel('Names of Countries')\n",
        "plt.ylabel('Count')\n",
        "plt.show()"
      ],
      "execution_count": null,
      "outputs": [
        {
          "output_type": "display_data",
          "data": {
            "image/png": "[encoded data removed]",
            "text/plain": [
              "<Figure size 864x720 with 1 Axes>"
            ]
          },
          "metadata": {
            "tags": [],
            "needs_background": "light"
          }
        }
      ]
    },
    {
      "cell_type": "code",
      "metadata": {
        "colab": {
          "base_uri": "https://localhost:8080/",
          "height": 17
        },
        "id": "aWPEXoOhZVRe",
        "outputId": "a993ad95-9254-4299-99a9-c5f7b0cf3cfd"
      },
      "source": [
        "z.figure.savefig('Top20CountriesWithout-UK.png')\n",
        "files.download('Top20CountriesWithout-UK.png')"
      ],
      "execution_count": null,
      "outputs": [
        {
          "output_type": "display_data",
          "data": {
            "application/javascript": [
              "\n",
              "    async function download(id, filename, size) {\n",
              "      if (!google.colab.kernel.accessAllowed) {\n",
              "        return;\n",
              "      }\n",
              "      const div = document.createElement('div');\n",
              "      const label = document.createElement('label');\n",
              "      label.textContent = `Downloading \"${filename}\": `;\n",
              "      div.appendChild(label);\n",
              "      const progress = document.createElement('progress');\n",
              "      progress.max = size;\n",
              "      div.appendChild(progress);\n",
              "      document.body.appendChild(div);\n",
              "\n",
              "      const buffers = [];\n",
              "      let downloaded = 0;\n",
              "\n",
              "      const channel = await google.colab.kernel.comms.open(id);\n",
              "      // Send a message to notify the kernel that we're ready.\n",
              "      channel.send({})\n",
              "\n",
              "      for await (const message of channel.messages) {\n",
              "        // Send a message to notify the kernel that we're ready.\n",
              "        channel.send({})\n",
              "        if (message.buffers) {\n",
              "          for (const buffer of message.buffers) {\n",
              "            buffers.push(buffer);\n",
              "            downloaded += buffer.byteLength;\n",
              "            progress.value = downloaded;\n",
              "          }\n",
              "        }\n",
              "      }\n",
              "      const blob = new Blob(buffers, {type: 'application/binary'});\n",
              "      const a = document.createElement('a');\n",
              "      a.href = window.URL.createObjectURL(blob);\n",
              "      a.download = filename;\n",
              "      div.appendChild(a);\n",
              "      a.click();\n",
              "      div.remove();\n",
              "    }\n",
              "  "
            ],
            "text/plain": [
              "<IPython.core.display.Javascript object>"
            ]
          },
          "metadata": {
            "tags": []
          }
        },
        {
          "output_type": "display_data",
          "data": {
            "application/javascript": [
              "download(\"download_881539e4-d27d-482d-97b4-caf9e7b0ff26\", \"Top20CountriesWithout-UK.png\", 28954)"
            ],
            "text/plain": [
              "<IPython.core.display.Javascript object>"
            ]
          },
          "metadata": {
            "tags": []
          }
        }
      ]
    },
    {
      "cell_type": "markdown",
      "metadata": {
        "id": "kMC62mjoV-F-"
      },
      "source": [
        "Show the most sales"
      ]
    },
    {
      "cell_type": "markdown",
      "metadata": {
        "id": "Llwemt72X4PW"
      },
      "source": [
        "I got stuck here for a bit; to better use our data, we can't show the Sales dependent on one variable: the Unit prices or the quantity sold.\n",
        "We must create a new column to store unit price*Quantity = SalesData. It will be helpful later on with our visualization stage."
      ]
    },
    {
      "cell_type": "code",
      "metadata": {
        "id": "l0UDYiBXZCe8"
      },
      "source": [
        "# Adding a new colum with the Sales Data\n",
        "# SalesData = Quantity x Unit Price\n",
        "data['SalesData'] = data['Quantity'] * data['UnitPrice']"
      ],
      "execution_count": null,
      "outputs": []
    },
    {
      "cell_type": "code",
      "metadata": {
        "id": "THGN6BLHVn9K"
      },
      "source": [
        "# Using the same panda groupby but choosing the salesDara variable\n",
        "# TopS will show each country's salesData\n",
        "# showing only the top 20 without UK to have a better plot.\n",
        "TopS = data['SalesData'].groupby(data['Country']).agg('sum').sort_values(ascending = False)[1:11]"
      ],
      "execution_count": null,
      "outputs": []
    },
    {
      "cell_type": "code",
      "metadata": {
        "colab": {
          "base_uri": "https://localhost:8080/"
        },
        "id": "vustEoaQZwfE",
        "outputId": "26776806-b95a-4766-9910-fe4584313356"
      },
      "source": [
        "# Printing the most most sales what countries?\n",
        "print(TopS)"
      ],
      "execution_count": null,
      "outputs": [
        {
          "output_type": "stream",
          "text": [
            "Country\n",
            "Netherlands    284661.54\n",
            "EIRE           250285.22\n",
            "Germany        221698.21\n",
            "France         196712.84\n",
            "Australia      137077.27\n",
            "Switzerland     55739.40\n",
            "Spain           54774.58\n",
            "Belgium         40910.96\n",
            "Sweden          36595.91\n",
            "Japan           35340.62\n",
            "Name: SalesData, dtype: float64\n"
          ],
          "name": "stdout"
        }
      ]
    },
    {
      "cell_type": "markdown",
      "metadata": {
        "id": "oBfJNYrjbDJD"
      },
      "source": [
        "Before moving to my next step, I'd like to look at the bottom countries using our \"Store\" to give us a better insight into how to target their market better. I guess that's what a Bussiness Intelligence Analyst will point at."
      ]
    },
    {
      "cell_type": "code",
      "metadata": {
        "colab": {
          "base_uri": "https://localhost:8080/"
        },
        "id": "ggJu5CmedP_j",
        "outputId": "39fc2d4a-bdc7-4c28-a355-54926426e080"
      },
      "source": [
        "BottomS= data['SalesData'].groupby(data['Country']).agg('sum').sort_values(ascending = True).head(20)\n",
        "print(BottomS)"
      ],
      "execution_count": null,
      "outputs": [
        {
          "output_type": "stream",
          "text": [
            "Country\n",
            "Saudi Arabia              131.17\n",
            "Bahrain                   548.40\n",
            "Czech Republic            707.72\n",
            "RSA                      1002.31\n",
            "Brazil                   1143.60\n",
            "European Community       1291.75\n",
            "Lithuania                1661.06\n",
            "Lebanon                  1693.88\n",
            "USA                      1730.92\n",
            "United Arab Emirates     1902.28\n",
            "Malta                    2505.47\n",
            "Unspecified              2667.07\n",
            "Canada                   3666.38\n",
            "Iceland                  4310.00\n",
            "Greece                   4710.52\n",
            "Israel                   6994.25\n",
            "Poland                   7213.14\n",
            "Singapore                9120.39\n",
            "Austria                 10154.32\n",
            "Cyprus                  12946.29\n",
            "Name: SalesData, dtype: float64\n"
          ],
          "name": "stdout"
        }
      ]
    },
    {
      "cell_type": "code",
      "metadata": {
        "colab": {
          "base_uri": "https://localhost:8080/",
          "height": 448
        },
        "id": "et9uDjUJvmiA",
        "outputId": "ab327696-a764-44a1-a20d-6601ce86ffef"
      },
      "source": [
        "plt.rcParams['figure.figsize'] = (13, 10)\n",
        "z5= sns.barplot(x = BottomS.values, y = BottomS.index, palette = 'flare')\n",
        "plt.title('Bottom 20 Countries (Sales)', fontsize = 20)\n",
        "plt.show()"
      ],
      "execution_count": null,
      "outputs": [
        {
          "output_type": "display_data",
          "data": {
            "image/png": "[encoded data removed]",
            "text/plain": [
              "<Figure size 936x720 with 1 Axes>"
            ]
          },
          "metadata": {
            "tags": [],
            "needs_background": "light"
          }
        }
      ]
    },
    {
      "cell_type": "code",
      "metadata": {
        "colab": {
          "base_uri": "https://localhost:8080/",
          "height": 17
        },
        "id": "bhC0dIwtZh0-",
        "outputId": "d57e9771-671f-42c8-d5fb-aa6580b46140"
      },
      "source": [
        "z5.figure.savefig('BottomSalesCounties.png')\n",
        "files.download('BottomSalesCounties.png')"
      ],
      "execution_count": null,
      "outputs": [
        {
          "output_type": "display_data",
          "data": {
            "application/javascript": [
              "\n",
              "    async function download(id, filename, size) {\n",
              "      if (!google.colab.kernel.accessAllowed) {\n",
              "        return;\n",
              "      }\n",
              "      const div = document.createElement('div');\n",
              "      const label = document.createElement('label');\n",
              "      label.textContent = `Downloading \"${filename}\": `;\n",
              "      div.appendChild(label);\n",
              "      const progress = document.createElement('progress');\n",
              "      progress.max = size;\n",
              "      div.appendChild(progress);\n",
              "      document.body.appendChild(div);\n",
              "\n",
              "      const buffers = [];\n",
              "      let downloaded = 0;\n",
              "\n",
              "      const channel = await google.colab.kernel.comms.open(id);\n",
              "      // Send a message to notify the kernel that we're ready.\n",
              "      channel.send({})\n",
              "\n",
              "      for await (const message of channel.messages) {\n",
              "        // Send a message to notify the kernel that we're ready.\n",
              "        channel.send({})\n",
              "        if (message.buffers) {\n",
              "          for (const buffer of message.buffers) {\n",
              "            buffers.push(buffer);\n",
              "            downloaded += buffer.byteLength;\n",
              "            progress.value = downloaded;\n",
              "          }\n",
              "        }\n",
              "      }\n",
              "      const blob = new Blob(buffers, {type: 'application/binary'});\n",
              "      const a = document.createElement('a');\n",
              "      a.href = window.URL.createObjectURL(blob);\n",
              "      a.download = filename;\n",
              "      div.appendChild(a);\n",
              "      a.click();\n",
              "      div.remove();\n",
              "    }\n",
              "  "
            ],
            "text/plain": [
              "<IPython.core.display.Javascript object>"
            ]
          },
          "metadata": {
            "tags": []
          }
        },
        {
          "output_type": "display_data",
          "data": {
            "application/javascript": [
              "download(\"download_540045ca-e467-4a06-8d04-441138dc472e\", \"BottomSalesCounties.png\", 29621)"
            ],
            "text/plain": [
              "<IPython.core.display.Javascript object>"
            ]
          },
          "metadata": {
            "tags": []
          }
        }
      ]
    },
    {
      "cell_type": "code",
      "metadata": {
        "colab": {
          "base_uri": "https://localhost:8080/",
          "height": 453
        },
        "id": "kgLhoxx9xxs8",
        "outputId": "e4db3b6b-6bbc-4bac-f49b-70c9e0e1dda8"
      },
      "source": [
        "# visualizing the sales in the entire globe\n",
        "plt.subplots(nrows = 1, ncols=1, figsize= (15, 9))\n",
        "sns.distplot(data['SalesData'], color = 'blue')\n",
        "plt.title('Distribution of Sales', fontsize = 20)\n",
        "plt.xlabel('Sales in different Countries')\n",
        "plt.ylabel('Sales')\n",
        "plt.show()\n"
      ],
      "execution_count": null,
      "outputs": [
        {
          "output_type": "stream",
          "text": [
            "/usr/local/lib/python3.6/dist-packages/seaborn/distributions.py:2551: FutureWarning: `distplot` is a deprecated function and will be removed in a future version. Please adapt your code to use either `displot` (a figure-level function with similar flexibility) or `histplot` (an axes-level function for histograms).\n",
            "  warnings.warn(msg, FutureWarning)\n"
          ],
          "name": "stderr"
        },
        {
          "output_type": "display_data",
          "data": {
            "image/png": "[encoded data removed]",
            "text/plain": [
              "<Figure size 1080x648 with 1 Axes>"
            ]
          },
          "metadata": {
            "tags": [],
            "needs_background": "light"
          }
        }
      ]
    },
    {
      "cell_type": "markdown",
      "metadata": {
        "id": "FcE_cgzNkFW9"
      },
      "source": [
        "Checking missing and data types, I'll Experimenting with missingno Library after finding my CDS411 Notes with Dr.Kinser. Let's double-check that we're not dealing with any missing values before finalizing our cleaning stage and move to the real Analysis and Visualization part."
      ]
    },
    {
      "cell_type": "code",
      "metadata": {
        "id": "slA6NBr9sAqy",
        "colab": {
          "base_uri": "https://localhost:8080/"
        },
        "outputId": "92590540-e54d-4052-d821-8e03186304d8"
      },
      "source": [
        "print(data.info())"
      ],
      "execution_count": null,
      "outputs": [
        {
          "output_type": "stream",
          "text": [
            "<class 'pandas.core.frame.DataFrame'>\n",
            "Int64Index: 406829 entries, 0 to 541908\n",
            "Data columns (total 10 columns):\n",
            " #   Column       Non-Null Count   Dtype  \n",
            "---  ------       --------------   -----  \n",
            " 0   InvoiceNo    406829 non-null  object \n",
            " 1   StockCode    406829 non-null  object \n",
            " 2   Description  406829 non-null  object \n",
            " 3   Quantity     406829 non-null  int64  \n",
            " 4   InvoiceDate  406829 non-null  object \n",
            " 5   UnitPrice    406829 non-null  float64\n",
            " 6   CustomerID   406829 non-null  object \n",
            " 7   Country      406829 non-null  object \n",
            " 8   Amount       406829 non-null  float64\n",
            " 9   SalesData    406829 non-null  float64\n",
            "dtypes: float64(3), int64(1), object(6)\n",
            "memory usage: 54.1+ MB\n",
            "None\n"
          ],
          "name": "stdout"
        }
      ]
    },
    {
      "cell_type": "code",
      "metadata": {
        "id": "G9wwqJ4i3ihb"
      },
      "source": [
        "data.InvoiceNo.astype('int64')"
      ],
      "execution_count": null,
      "outputs": []
    },
    {
      "cell_type": "code",
      "metadata": {
        "colab": {
          "base_uri": "https://localhost:8080/",
          "height": 1000
        },
        "id": "e9vCHSQlqmD-",
        "outputId": "c3c362bb-3831-4bfc-e7cc-ffbfea02bed4"
      },
      "source": [
        "import missingno as msno # Advanced missing values handling\n",
        "msno.bar(data);\n",
        "msno.heatmap(data);"
      ],
      "execution_count": null,
      "outputs": [
        {
          "output_type": "stream",
          "text": [
            "/usr/local/lib/python3.6/dist-packages/seaborn/matrix.py:311: UserWarning: Attempting to set identical bottom == top == 0 results in singular transformations; automatically expanding.\n",
            "  ax.set(xlim=(0, self.data.shape[1]), ylim=(0, self.data.shape[0]))\n",
            "/usr/local/lib/python3.6/dist-packages/seaborn/matrix.py:311: UserWarning: Attempting to set identical left == right == 0 results in singular transformations; automatically expanding.\n",
            "  ax.set(xlim=(0, self.data.shape[1]), ylim=(0, self.data.shape[0]))\n"
          ],
          "name": "stderr"
        },
        {
          "output_type": "display_data",
          "data": {
            "image/png": "[encoded data removed]",
            "text/plain": [
              "<Figure size 1728x720 with 3 Axes>"
            ]
          },
          "metadata": {
            "tags": [],
            "needs_background": "light"
          }
        },
        {
          "output_type": "display_data",
          "data": {
            "image/png": "[encoded data removed]",
            "text/plain": [
              "<Figure size 1440x864 with 2 Axes>"
            ]
          },
          "metadata": {
            "tags": [],
            "needs_background": "light"
          }
        }
      ]
    },
    {
      "cell_type": "markdown",
      "metadata": {
        "id": "LYPEFHeSZ7N2"
      },
      "source": [
        "Now we have a better understanding of what are the most and least countries we're benefiting from (Great data for our Market and advertising team to work on)\n",
        "Now let's stop for a bit; we need to know the most items sold to those countries, but I also forgot that we have refunded or canceled transactions, so I hope it's already calculated."
      ]
    },
    {
      "cell_type": "markdown",
      "metadata": {
        "id": "u_SgWD7YcPul"
      },
      "source": [
        "We already have any idea of the numbers of uniwue trasactions but let us get an acurate value of the C or cancelead invoices."
      ]
    },
    {
      "cell_type": "code",
      "metadata": {
        "id": "FuHH6xLf49yR",
        "colab": {
          "base_uri": "https://localhost:8080/"
        },
        "outputId": "7fdc4d19-538d-4e34-c832-0780c47ca8c9"
      },
      "source": [
        "# Lambda provides runtimes for Python that run your code to process events.\n",
        "data[\"Cancelled_Transactions\"]=np.where(data.InvoiceNo.apply(lambda l: l[0]==\"C\"), True, False)\n",
        "canceledT = data.Cancelled_Transactions.value_counts()\n",
        "print(canceledT)\n",
        "print(canceledT/ data.shape[0] * 100)"
      ],
      "execution_count": null,
      "outputs": [
        {
          "output_type": "stream",
          "text": [
            "False    88145\n",
            "True      1733\n",
            "Name: Cancelled_Transactions, dtype: int64\n",
            "False    98.071831\n",
            "True      1.928169\n",
            "Name: Cancelled_Transactions, dtype: float64\n"
          ],
          "name": "stdout"
        }
      ]
    },
    {
      "cell_type": "markdown",
      "metadata": {
        "id": "3BCWEGyskyTx"
      },
      "source": [
        "Data Visualization"
      ]
    },
    {
      "cell_type": "markdown",
      "metadata": {
        "id": "YB-45N-WeXRE"
      },
      "source": [
        "What about thr countries with the most returned trasactions."
      ]
    },
    {
      "cell_type": "code",
      "metadata": {
        "id": "DOIkK2EgcwDo"
      },
      "source": [
        "data.Country = data.Country.astype('category')\n",
        "# topInvoice = data['InvoiceNo'].groupby(data['Country']).agg('sum').sort_values(ascending = False)[1:21]\n",
        "# print(topInvoice)"
      ],
      "execution_count": null,
      "outputs": []
    },
    {
      "cell_type": "code",
      "metadata": {
        "id": "raNRNpCWeuWj"
      },
      "source": [
        "plt.rcParams['figure.figsize'] = (13, 10)\n",
        "z= sns.barplot(x = InvoiceNo.values, y = BottomS.index, palette = 'flare')\n",
        "plt.title('Bottom 20 Countries (Sales)', fontsize = 20)\n",
        "plt.xlabel('Names of Countries')\n",
        "plt.ylabel('Count')\n",
        "plt.show()"
      ],
      "execution_count": null,
      "outputs": []
    },
    {
      "cell_type": "code",
      "metadata": {
        "colab": {
          "base_uri": "https://localhost:8080/"
        },
        "id": "7YNLeAvpoOAW",
        "outputId": "a76ee710-97f9-42a7-dcc2-65361f4d58ef"
      },
      "source": [
        "data.isnull().sum()"
      ],
      "execution_count": null,
      "outputs": [
        {
          "output_type": "execute_result",
          "data": {
            "text/plain": [
              "InvoiceNo      0\n",
              "StockCode      0\n",
              "Description    0\n",
              "Quantity       0\n",
              "InvoiceDate    0\n",
              "UnitPrice      0\n",
              "CustomerID     0\n",
              "Country        0\n",
              "SalesData      0\n",
              "Amount         0\n",
              "dtype: int64"
            ]
          },
          "metadata": {
            "tags": []
          },
          "execution_count": 136
        }
      ]
    },
    {
      "cell_type": "markdown",
      "metadata": {
        "id": "ZDA-RRoPp6bf"
      },
      "source": [
        "\n",
        "Now, let’s proceed with replacing null features with zero values, as we need to have a clean dataset to perform operations with it."
      ]
    },
    {
      "cell_type": "code",
      "metadata": {
        "colab": {
          "base_uri": "https://localhost:8080/"
        },
        "id": "lvqMv9yVpmRP",
        "outputId": "99b8e101-72f9-40cc-aa07-12de5d9e3ccd"
      },
      "source": [
        "data.fillna(0, inplace=True)\n",
        "data.isnull().sum()"
      ],
      "execution_count": null,
      "outputs": [
        {
          "output_type": "execute_result",
          "data": {
            "text/plain": [
              "InvoiceNo                 0\n",
              "StockCode                 0\n",
              "Description               0\n",
              "Quantity                  0\n",
              "InvoiceDate               0\n",
              "UnitPrice                 0\n",
              "CustomerID                0\n",
              "Country                   0\n",
              "Cancelled_Transactions    0\n",
              "dtype: int64"
            ]
          },
          "metadata": {
            "tags": []
          },
          "execution_count": 24
        }
      ]
    },
    {
      "cell_type": "code",
      "metadata": {
        "colab": {
          "base_uri": "https://localhost:8080/",
          "height": 297
        },
        "id": "6xpvCnPy4quv",
        "outputId": "6cb5cf9f-3771-4da9-df99-5d7c5f8cba86"
      },
      "source": [
        "# Plotting InvoiceNo distribution per Country\n",
        "import seaborn as sns # Advanced data visualization\n",
        "plt.figure(figsize=(14,6))\n",
        "plt.title('Purchases from Countries');\n",
        "sns.countplot(y='Country', data=data)"
      ],
      "execution_count": null,
      "outputs": [
        {
          "output_type": "execute_result",
          "data": {
            "text/plain": [
              "<matplotlib.axes._subplots.AxesSubplot at 0x7f5a34f57198>"
            ]
          },
          "metadata": {
            "tags": []
          },
          "execution_count": 87
        },
        {
          "output_type": "display_data",
          "data": {
            "image/png": "[encoded data removed]",
            "text/plain": [
              "<Figure size 1008x432 with 1 Axes>"
            ]
          },
          "metadata": {
            "tags": [],
            "needs_background": "light"
          }
        }
      ]
    },
    {
      "cell_type": "markdown",
      "metadata": {
        "id": "Tuw6zZgRkR_i"
      },
      "source": [
        "Time Series Plot and a Pie Char for sales throughout the year"
      ]
    },
    {
      "cell_type": "code",
      "metadata": {
        "id": "eg3S8ft5albX"
      },
      "source": [
        "# importing Python datatime to seperate our 2011 and 201 sales\n",
        "import datetime\n",
        "data['month'] = pd.DatetimeIndex(data['InvoiceDate']).month\n",
        "data['year'] = pd.DatetimeIndex(data['InvoiceDate']).year\n",
        "import calendar\n",
        "# Here we're creating a months coulum to store all Invoice dates by months\n",
        "# data['Months'] = data['month'].apply(lambda x: calendar.month_abbr[x])"
      ],
      "execution_count": null,
      "outputs": []
    },
    {
      "cell_type": "code",
      "metadata": {
        "id": "xjE_Pqcfxogo"
      },
      "source": [
        "# defing calander months fot the Y label per plot, didn;t really work well\n",
        "def Months(NumbersM):\n",
        "    MNames = [calendar.month_abbr[x] for x in NumbersM]\n",
        "    return MNames"
      ],
      "execution_count": null,
      "outputs": []
    },
    {
      "cell_type": "code",
      "metadata": {
        "id": "649stIQBvp3l",
        "colab": {
          "base_uri": "https://localhost:8080/",
          "height": 317
        },
        "outputId": "7fdcd7a2-8aa0-45b9-c68a-7c1fcd177301"
      },
      "source": [
        "# Grouping the 2010 Sales only \n",
        "def time_series(country):\n",
        "  data1 = data[data['Country'] == country]\n",
        "  data1.plot(x = 'InvoiceDate', y = 'SalesData')\n",
        "  \n"
      ],
      "execution_count": null,
      "outputs": [
        {
          "output_type": "execute_result",
          "data": {
            "text/plain": [
              "Text(0.5, 1.0, 'Time-Series plot for UK')"
            ]
          },
          "metadata": {
            "tags": []
          },
          "execution_count": 33
        },
        {
          "output_type": "display_data",
          "data": {
            "image/png": "[encoded data removed]",
            "text/plain": [
              "<Figure size 432x288 with 1 Axes>"
            ]
          },
          "metadata": {
            "tags": [],
            "needs_background": "light"
          }
        }
      ]
    },
    {
      "cell_type": "code",
      "metadata": {
        "id": "o7VQN1A0pg9e"
      },
      "source": [
        "# We can run thos for different counties to have a better understandin\n",
        "# I decided to move on with cleaned and import it to Tableau to have a better\n",
        "# Visulization for different prameters.\n",
        "dataset = data[data['Country'] == 'Germany']\n",
        "dataset.plot(x = 'InvoiceDate', y = 'SalesData')\n",
        "plt.title('Time Series for EIRE', fontsize = 20)\n",
        "plt.xticks(rotation = -40)\n",
        "plt.xlabel('Purchase Date')\n",
        "plt.ylabel('Sales Numbers')\n",
        "plt.show()"
      ],
      "execution_count": null,
      "outputs": []
    },
    {
      "cell_type": "markdown",
      "metadata": {
        "id": "SbFbIVufB13M"
      },
      "source": [
        ""
      ]
    },
    {
      "cell_type": "markdown",
      "metadata": {
        "id": "vtJ0iZ6jIgMj"
      },
      "source": [
        "Defining my Time series to plot multiple countries AND export to Tableau for more Visulization analysis"
      ]
    }
  ]
}