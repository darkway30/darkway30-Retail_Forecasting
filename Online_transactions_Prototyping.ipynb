{
  "nbformat": 4,
  "nbformat_minor": 0,
  "metadata": {
    "colab": {
      "name": "Online transactions Prototyping",
      "provenance": [],
      "collapsed_sections": [],
      "authorship_tag": "ABX9TyOxnp79H2JWVS4b4Z5COdwY",
      "include_colab_link": true
    },
    "kernelspec": {
      "name": "python3",
      "display_name": "Python 3"
    }
  },
  "cells": [
    {
      "cell_type": "markdown",
      "metadata": {
        "id": "view-in-github",
        "colab_type": "text"
      },
      "source": [
        "<a href=\"https://colab.research.google.com/github/darkway30/darkway30-Retail_Forecasting/blob/master/Online_transactions_Prototyping.ipynb\" target=\"_parent\"><img src=\"https://colab.research.google.com/assets/colab-badge.svg\" alt=\"Open In Colab\"/></a>"
      ]
    },
    {
      "cell_type": "code",
      "metadata": {
        "id": "sjMKnbm6QjUo"
      },
      "source": [
        "import numpy as np # Linear algebra\n",
        "import pandas as pd # Data processing, CSV file I/O (e.g. pd.read_csv)\n",
        "import matplotlib.pyplot as plt # Data visualization\n",
        "from sklearn.model_selection import TimeSeriesSplit\n",
        "from sklearn.preprocessing import StandardScaler\n",
        "from sklearn.cluster import KMeans"
      ],
      "execution_count": 2,
      "outputs": []
    },
    {
      "cell_type": "markdown",
      "metadata": {
        "id": "VLod8ZiDU8kQ"
      },
      "source": [
        "Part one: We start Understaning our Data."
      ]
    },
    {
      "cell_type": "code",
      "metadata": {
        "id": "nVYtdykXRNGm"
      },
      "source": [
        "# Readin our CSV file trasactions to start analysing the prameters\n",
        "data = pd.read_csv('Online_Retail.csv', encoding = 'unicode_escape')\n"
      ],
      "execution_count": 3,
      "outputs": []
    },
    {
      "cell_type": "code",
      "metadata": {
        "id": "ieBnJjULU4da",
        "colab": {
          "base_uri": "https://localhost:8080/",
          "height": 496
        },
        "outputId": "c827a9f2-fb43-4968-b786-d7aea1b86e5f"
      },
      "source": [
        "data.head()"
      ],
      "execution_count": null,
      "outputs": [
        {
          "output_type": "execute_result",
          "data": {
            "text/html": [
              "<div>\n",
              "<style scoped>\n",
              "    .dataframe tbody tr th:only-of-type {\n",
              "        vertical-align: middle;\n",
              "    }\n",
              "\n",
              "    .dataframe tbody tr th {\n",
              "        vertical-align: top;\n",
              "    }\n",
              "\n",
              "    .dataframe thead th {\n",
              "        text-align: right;\n",
              "    }\n",
              "</style>\n",
              "<table border=\"1\" class=\"dataframe\">\n",
              "  <thead>\n",
              "    <tr style=\"text-align: right;\">\n",
              "      <th></th>\n",
              "      <th>InvoiceNo</th>\n",
              "      <th>StockCode</th>\n",
              "      <th>Description</th>\n",
              "      <th>Quantity</th>\n",
              "      <th>InvoiceDate</th>\n",
              "      <th>UnitPrice</th>\n",
              "      <th>CustomerID</th>\n",
              "      <th>Country</th>\n",
              "    </tr>\n",
              "  </thead>\n",
              "  <tbody>\n",
              "    <tr>\n",
              "      <th>0</th>\n",
              "      <td>536365</td>\n",
              "      <td>85123A</td>\n",
              "      <td>WHITE HANGING HEART T-LIGHT HOLDER</td>\n",
              "      <td>6</td>\n",
              "      <td>12/1/10 8:26</td>\n",
              "      <td>2.55</td>\n",
              "      <td>17850.0</td>\n",
              "      <td>United Kingdom</td>\n",
              "    </tr>\n",
              "    <tr>\n",
              "      <th>1</th>\n",
              "      <td>536365</td>\n",
              "      <td>71053</td>\n",
              "      <td>WHITE METAL LANTERN</td>\n",
              "      <td>6</td>\n",
              "      <td>12/1/10 8:26</td>\n",
              "      <td>3.39</td>\n",
              "      <td>17850.0</td>\n",
              "      <td>United Kingdom</td>\n",
              "    </tr>\n",
              "    <tr>\n",
              "      <th>2</th>\n",
              "      <td>536365</td>\n",
              "      <td>84406B</td>\n",
              "      <td>CREAM CUPID HEARTS COAT HANGER</td>\n",
              "      <td>8</td>\n",
              "      <td>12/1/10 8:26</td>\n",
              "      <td>2.75</td>\n",
              "      <td>17850.0</td>\n",
              "      <td>United Kingdom</td>\n",
              "    </tr>\n",
              "    <tr>\n",
              "      <th>3</th>\n",
              "      <td>536365</td>\n",
              "      <td>84029G</td>\n",
              "      <td>KNITTED UNION FLAG HOT WATER BOTTLE</td>\n",
              "      <td>6</td>\n",
              "      <td>12/1/10 8:26</td>\n",
              "      <td>3.39</td>\n",
              "      <td>17850.0</td>\n",
              "      <td>United Kingdom</td>\n",
              "    </tr>\n",
              "    <tr>\n",
              "      <th>4</th>\n",
              "      <td>536365</td>\n",
              "      <td>84029E</td>\n",
              "      <td>RED WOOLLY HOTTIE WHITE HEART.</td>\n",
              "      <td>6</td>\n",
              "      <td>12/1/10 8:26</td>\n",
              "      <td>3.39</td>\n",
              "      <td>17850.0</td>\n",
              "      <td>United Kingdom</td>\n",
              "    </tr>\n",
              "  </tbody>\n",
              "</table>\n",
              "</div>"
            ],
            "text/plain": [
              "  InvoiceNo StockCode  ... CustomerID         Country\n",
              "0    536365    85123A  ...    17850.0  United Kingdom\n",
              "1    536365     71053  ...    17850.0  United Kingdom\n",
              "2    536365    84406B  ...    17850.0  United Kingdom\n",
              "3    536365    84029G  ...    17850.0  United Kingdom\n",
              "4    536365    84029E  ...    17850.0  United Kingdom\n",
              "\n",
              "[5 rows x 8 columns]"
            ]
          },
          "metadata": {
            "tags": []
          },
          "execution_count": 9
        }
      ]
    },
    {
      "cell_type": "code",
      "metadata": {
        "colab": {
          "base_uri": "https://localhost:8080/"
        },
        "id": "P5c-tmxpTSvw",
        "outputId": "8ed56ac0-e88e-446c-9ae4-ca1ba07ae5a6"
      },
      "source": [
        "# Whats the shape of our data\n",
        "# This Dataset contains 532619 rows and 8 columns\n",
        "data.shape"
      ],
      "execution_count": null,
      "outputs": [
        {
          "output_type": "execute_result",
          "data": {
            "text/plain": [
              "(541909, 8)"
            ]
          },
          "metadata": {
            "tags": []
          },
          "execution_count": 10
        }
      ]
    },
    {
      "cell_type": "code",
      "metadata": {
        "colab": {
          "base_uri": "https://localhost:8080/"
        },
        "id": "0KkUrCR9Td7a",
        "outputId": "cd4dfb82-f1fe-40cf-8c51-ccacc10cc9f7"
      },
      "source": [
        "# Data information\n",
        "data.info()"
      ],
      "execution_count": null,
      "outputs": [
        {
          "output_type": "stream",
          "text": [
            "<class 'pandas.core.frame.DataFrame'>\n",
            "RangeIndex: 541909 entries, 0 to 541908\n",
            "Data columns (total 8 columns):\n",
            " #   Column       Non-Null Count   Dtype  \n",
            "---  ------       --------------   -----  \n",
            " 0   InvoiceNo    541909 non-null  object \n",
            " 1   StockCode    541909 non-null  object \n",
            " 2   Description  540455 non-null  object \n",
            " 3   Quantity     541909 non-null  int64  \n",
            " 4   InvoiceDate  541909 non-null  object \n",
            " 5   UnitPrice    541909 non-null  float64\n",
            " 6   CustomerID   406829 non-null  float64\n",
            " 7   Country      541909 non-null  object \n",
            "dtypes: float64(2), int64(1), object(5)\n",
            "memory usage: 33.1+ MB\n"
          ],
          "name": "stdout"
        }
      ]
    },
    {
      "cell_type": "markdown",
      "metadata": {
        "id": "a-bqmGDYt4cq"
      },
      "source": [
        "From the data information insight InvoiceNo should be int64; there must be something incorrect with this variable. When attempting to use df.InvoiceNo.astype('int64') I receive an error. it's impossible to convert str into an int, meaning wrong listings in the data. "
      ]
    },
    {
      "cell_type": "markdown",
      "metadata": {
        "id": "O-Zmd9_0fCGL"
      },
      "source": [
        "We can recognize that there are 532619 entries from Data Information, and these are the transactions I'll try to analyze. \n",
        "There is two float type column ('UnitPrice', 'CustomerID)\n",
        "An integer type column ('Quantity'). \n",
        "Five object type column ('InvoiceNo',StockCode','Description','InvoiceDate','Country') "
      ]
    },
    {
      "cell_type": "code",
      "metadata": {
        "colab": {
          "base_uri": "https://localhost:8080/",
          "height": 297
        },
        "id": "ez6clR4YTxl5",
        "outputId": "c664af3b-b625-451f-c2e9-832e17910aca"
      },
      "source": [
        "# Description to look for any Null Values before cleaning\n",
        "data.describe()"
      ],
      "execution_count": null,
      "outputs": [
        {
          "output_type": "execute_result",
          "data": {
            "text/html": [
              "<div>\n",
              "<style scoped>\n",
              "    .dataframe tbody tr th:only-of-type {\n",
              "        vertical-align: middle;\n",
              "    }\n",
              "\n",
              "    .dataframe tbody tr th {\n",
              "        vertical-align: top;\n",
              "    }\n",
              "\n",
              "    .dataframe thead th {\n",
              "        text-align: right;\n",
              "    }\n",
              "</style>\n",
              "<table border=\"1\" class=\"dataframe\">\n",
              "  <thead>\n",
              "    <tr style=\"text-align: right;\">\n",
              "      <th></th>\n",
              "      <th>Quantity</th>\n",
              "      <th>UnitPrice</th>\n",
              "      <th>CustomerID</th>\n",
              "    </tr>\n",
              "  </thead>\n",
              "  <tbody>\n",
              "    <tr>\n",
              "      <th>count</th>\n",
              "      <td>541909.000000</td>\n",
              "      <td>541909.000000</td>\n",
              "      <td>406829.000000</td>\n",
              "    </tr>\n",
              "    <tr>\n",
              "      <th>mean</th>\n",
              "      <td>9.552250</td>\n",
              "      <td>4.611114</td>\n",
              "      <td>15287.690570</td>\n",
              "    </tr>\n",
              "    <tr>\n",
              "      <th>std</th>\n",
              "      <td>218.081158</td>\n",
              "      <td>96.759853</td>\n",
              "      <td>1713.600303</td>\n",
              "    </tr>\n",
              "    <tr>\n",
              "      <th>min</th>\n",
              "      <td>-80995.000000</td>\n",
              "      <td>-11062.060000</td>\n",
              "      <td>12346.000000</td>\n",
              "    </tr>\n",
              "    <tr>\n",
              "      <th>25%</th>\n",
              "      <td>1.000000</td>\n",
              "      <td>1.250000</td>\n",
              "      <td>13953.000000</td>\n",
              "    </tr>\n",
              "    <tr>\n",
              "      <th>50%</th>\n",
              "      <td>3.000000</td>\n",
              "      <td>2.080000</td>\n",
              "      <td>15152.000000</td>\n",
              "    </tr>\n",
              "    <tr>\n",
              "      <th>75%</th>\n",
              "      <td>10.000000</td>\n",
              "      <td>4.130000</td>\n",
              "      <td>16791.000000</td>\n",
              "    </tr>\n",
              "    <tr>\n",
              "      <th>max</th>\n",
              "      <td>80995.000000</td>\n",
              "      <td>38970.000000</td>\n",
              "      <td>18287.000000</td>\n",
              "    </tr>\n",
              "  </tbody>\n",
              "</table>\n",
              "</div>"
            ],
            "text/plain": [
              "            Quantity      UnitPrice     CustomerID\n",
              "count  541909.000000  541909.000000  406829.000000\n",
              "mean        9.552250       4.611114   15287.690570\n",
              "std       218.081158      96.759853    1713.600303\n",
              "min    -80995.000000  -11062.060000   12346.000000\n",
              "25%         1.000000       1.250000   13953.000000\n",
              "50%         3.000000       2.080000   15152.000000\n",
              "75%        10.000000       4.130000   16791.000000\n",
              "max     80995.000000   38970.000000   18287.000000"
            ]
          },
          "metadata": {
            "tags": []
          },
          "execution_count": 12
        }
      ]
    },
    {
      "cell_type": "code",
      "metadata": {
        "id": "wOP6sHaoVwF8",
        "colab": {
          "base_uri": "https://localhost:8080/"
        },
        "outputId": "9efac6c5-179f-49aa-ab76-9e9362c610ad"
      },
      "source": [
        "Null_percentage = data.isnull().sum() / data.shape[0] * 100\n",
        "Null_percentage"
      ],
      "execution_count": null,
      "outputs": [
        {
          "output_type": "execute_result",
          "data": {
            "text/plain": [
              "InvoiceNo       0.000000\n",
              "StockCode       0.000000\n",
              "Description     0.268311\n",
              "Quantity        0.000000\n",
              "InvoiceDate     0.000000\n",
              "UnitPrice       0.000000\n",
              "CustomerID     24.926694\n",
              "Country         0.000000\n",
              "dtype: float64"
            ]
          },
          "metadata": {
            "tags": []
          },
          "execution_count": 13
        }
      ]
    },
    {
      "cell_type": "markdown",
      "metadata": {
        "id": "K6HpZvWygf8g"
      },
      "source": [
        "Approximately 25 % of the customers are unknown or Null, and 0.2% items were missing; these values that we'll have to remove to better understand the actual data. "
      ]
    },
    {
      "cell_type": "code",
      "metadata": {
        "id": "nDr_8eidVI9S",
        "colab": {
          "base_uri": "https://localhost:8080/"
        },
        "outputId": "c50b98b1-1e27-4be1-ac00-6198afb73e8a"
      },
      "source": [
        "# now we can get an idea about the actual numbers\n",
        "data.isnull().sum().sort_values(ascending=False)"
      ],
      "execution_count": null,
      "outputs": [
        {
          "output_type": "execute_result",
          "data": {
            "text/plain": [
              "CustomerID     135080\n",
              "Description      1454\n",
              "Country             0\n",
              "UnitPrice           0\n",
              "InvoiceDate         0\n",
              "Quantity            0\n",
              "StockCode           0\n",
              "InvoiceNo           0\n",
              "dtype: int64"
            ]
          },
          "metadata": {
            "tags": []
          },
          "execution_count": 14
        }
      ]
    },
    {
      "cell_type": "markdown",
      "metadata": {
        "id": "YuoWbLc2hHhJ"
      },
      "source": [
        "With this information, we need to point to the business owner that we're missing a lot 25% is an immense value to miss. Something they can work on recovering."
      ]
    },
    {
      "cell_type": "markdown",
      "metadata": {
        "id": "8Sye9Cnvh0UI"
      },
      "source": [
        "We move to the next step: Cleaning our data to be more comfortable and more precise to analyze."
      ]
    },
    {
      "cell_type": "code",
      "metadata": {
        "id": "-1KjTsBC4z0X",
        "colab": {
          "base_uri": "https://localhost:8080/"
        },
        "outputId": "34cf35e7-b358-4837-8976-8d4cbffdd721"
      },
      "source": [
        "# Remving the missing values with Panda Drop format\n",
        "data = data.dropna()\n",
        "data.shape"
      ],
      "execution_count": null,
      "outputs": [
        {
          "output_type": "execute_result",
          "data": {
            "text/plain": [
              "(406829, 8)"
            ]
          },
          "metadata": {
            "tags": []
          },
          "execution_count": 19
        }
      ]
    },
    {
      "cell_type": "code",
      "metadata": {
        "colab": {
          "base_uri": "https://localhost:8080/"
        },
        "id": "HPZlQF1vjtoX",
        "outputId": "83190eda-49b8-4bef-95f1-91bfd50726ca"
      },
      "source": [
        "# making sure that our data is not missing in more values\n",
        "data.isnull().sum().sum()"
      ],
      "execution_count": null,
      "outputs": [
        {
          "output_type": "execute_result",
          "data": {
            "text/plain": [
              "0"
            ]
          },
          "metadata": {
            "tags": []
          },
          "execution_count": 24
        }
      ]
    },
    {
      "cell_type": "markdown",
      "metadata": {
        "id": "KxwOM_Xnkq54"
      },
      "source": [
        "Part three: let's explore our parameters\n",
        "Countries/Stock that we can Visualize later to understand the countries we should focus on and the Items sold."
      ]
    },
    {
      "cell_type": "markdown",
      "metadata": {
        "id": "yA3a2ao8w32R"
      },
      "source": [
        "Analyzing Customers  based on orders:\n",
        "\n",
        "1) Invoices\n",
        "2) Items prusched\n",
        "3) Item describtion\n",
        "4) Recent order made per customer"
      ]
    },
    {
      "cell_type": "code",
      "metadata": {
        "colab": {
          "base_uri": "https://localhost:8080/"
        },
        "id": "FZBlk5bfk3Ie",
        "outputId": "43745cc3-e6d1-4579-9037-ddcf3fec7e4d"
      },
      "source": [
        "# How many Unique Invoices made in our 40+ Data\n",
        "data.InvoiceNo.nunique()"
      ],
      "execution_count": null,
      "outputs": [
        {
          "output_type": "execute_result",
          "data": {
            "text/plain": [
              "22190"
            ]
          },
          "metadata": {
            "tags": []
          },
          "execution_count": 40
        }
      ]
    },
    {
      "cell_type": "markdown",
      "metadata": {
        "id": "FxVAGeyew-B1"
      },
      "source": [
        "Stock items"
      ]
    },
    {
      "cell_type": "code",
      "metadata": {
        "colab": {
          "base_uri": "https://localhost:8080/"
        },
        "id": "WGHtWdmtxB86",
        "outputId": "92cf9117-b2f7-4fba-edb4-74f54d9783c9"
      },
      "source": [
        "# How many Unique Invoices made in our 40+ Data\n",
        "data.StockCode.nunique()"
      ],
      "execution_count": null,
      "outputs": [
        {
          "output_type": "execute_result",
          "data": {
            "text/plain": [
              "3684"
            ]
          },
          "metadata": {
            "tags": []
          },
          "execution_count": 52
        }
      ]
    },
    {
      "cell_type": "markdown",
      "metadata": {
        "id": "U-XAkdc5x3I9"
      },
      "source": [
        "Descriptions"
      ]
    },
    {
      "cell_type": "code",
      "metadata": {
        "colab": {
          "base_uri": "https://localhost:8080/"
        },
        "id": "Gulbo5Y9x7S1",
        "outputId": "ebc7ef2f-b28b-417b-ad9f-7edd0e2ee227"
      },
      "source": [
        "data.Description.nunique()"
      ],
      "execution_count": null,
      "outputs": [
        {
          "output_type": "execute_result",
          "data": {
            "text/plain": [
              "3896"
            ]
          },
          "metadata": {
            "tags": []
          },
          "execution_count": 59
        }
      ]
    },
    {
      "cell_type": "markdown",
      "metadata": {
        "id": "CI86Ph966t_2"
      },
      "source": [
        "Since we have only 22190 Unique invoices, let's analyze our customers and look at their total number of transactions made this year and their last purchase.\n",
        "However, in a later step, a NaN Description shows us a failed transaction, so we will have to deal with NaN values to analyze our customers better."
      ]
    },
    {
      "cell_type": "code",
      "metadata": {
        "id": "J27sq9wvvSSj"
      },
      "source": [
        "# Changing our CustomerID data to get a more accurate results."
      ],
      "execution_count": null,
      "outputs": []
    },
    {
      "cell_type": "code",
      "metadata": {
        "id": "MDiBbxJ7vi50"
      },
      "source": [
        "data['CustomerID'] = data['CustomerID'].astype(str)"
      ],
      "execution_count": null,
      "outputs": []
    },
    {
      "cell_type": "code",
      "metadata": {
        "id": "lbwDfE-gotu4"
      },
      "source": [
        "# amount = [the items sold] x [price]\n",
        "data['Amount'] = data['Quantity']*data['UnitPrice']\n",
        "# pandas. DataFrame. groupby to sum our to values\n",
        "total_t = data.groupby('CustomerID')['Amount'].sum()\n",
        "total_t = total_t.reset_index()"
      ],
      "execution_count": null,
      "outputs": []
    },
    {
      "cell_type": "code",
      "metadata": {
        "colab": {
          "base_uri": "https://localhost:8080/",
          "height": 204
        },
        "id": "i1ogqlkSq69I",
        "outputId": "351ecdf4-cee5-4ef0-c2b5-2b5d9a186e0f"
      },
      "source": [
        "# let's explore our first attribute\n",
        "total_t.head()\n"
      ],
      "execution_count": null,
      "outputs": [
        {
          "output_type": "execute_result",
          "data": {
            "text/html": [
              "<div>\n",
              "<style scoped>\n",
              "    .dataframe tbody tr th:only-of-type {\n",
              "        vertical-align: middle;\n",
              "    }\n",
              "\n",
              "    .dataframe tbody tr th {\n",
              "        vertical-align: top;\n",
              "    }\n",
              "\n",
              "    .dataframe thead th {\n",
              "        text-align: right;\n",
              "    }\n",
              "</style>\n",
              "<table border=\"1\" class=\"dataframe\">\n",
              "  <thead>\n",
              "    <tr style=\"text-align: right;\">\n",
              "      <th></th>\n",
              "      <th>CustomerID</th>\n",
              "      <th>Amount</th>\n",
              "    </tr>\n",
              "  </thead>\n",
              "  <tbody>\n",
              "    <tr>\n",
              "      <th>0</th>\n",
              "      <td>12346.0</td>\n",
              "      <td>0.00</td>\n",
              "    </tr>\n",
              "    <tr>\n",
              "      <th>1</th>\n",
              "      <td>12347.0</td>\n",
              "      <td>4310.00</td>\n",
              "    </tr>\n",
              "    <tr>\n",
              "      <th>2</th>\n",
              "      <td>12348.0</td>\n",
              "      <td>1797.24</td>\n",
              "    </tr>\n",
              "    <tr>\n",
              "      <th>3</th>\n",
              "      <td>12349.0</td>\n",
              "      <td>1757.55</td>\n",
              "    </tr>\n",
              "    <tr>\n",
              "      <th>4</th>\n",
              "      <td>12350.0</td>\n",
              "      <td>334.40</td>\n",
              "    </tr>\n",
              "  </tbody>\n",
              "</table>\n",
              "</div>"
            ],
            "text/plain": [
              "  CustomerID   Amount\n",
              "0    12346.0     0.00\n",
              "1    12347.0  4310.00\n",
              "2    12348.0  1797.24\n",
              "3    12349.0  1757.55\n",
              "4    12350.0   334.40"
            ]
          },
          "metadata": {
            "tags": []
          },
          "execution_count": 55
        }
      ]
    },
    {
      "cell_type": "markdown",
      "metadata": {
        "id": "WuLz1ZNQBMmY"
      },
      "source": [
        "We'll go more in-depth with our data to pinpoint the transactions flow: Countries, Customers, and items.\n",
        "This method can help us with our Time Series report for a specific country or region. \n"
      ]
    },
    {
      "cell_type": "markdown",
      "metadata": {
        "id": "WWarTORwUdQ2"
      },
      "source": [
        "Focusing on the top Countries and the most Items sold"
      ]
    },
    {
      "cell_type": "code",
      "metadata": {
        "colab": {
          "base_uri": "https://localhost:8080/"
        },
        "id": "OV_Z-lzuTbyp",
        "outputId": "5887ff47-03ce-42df-e5ef-0bbc3117c9b4"
      },
      "source": [
        "# checking the different values for the top 20 countries\n",
        "data['Country'].value_counts().head(20)"
      ],
      "execution_count": null,
      "outputs": [
        {
          "output_type": "execute_result",
          "data": {
            "text/plain": [
              "United Kingdom     361878\n",
              "Germany              9495\n",
              "France               8491\n",
              "EIRE                 7485\n",
              "Spain                2533\n",
              "Netherlands          2371\n",
              "Belgium              2069\n",
              "Switzerland          1877\n",
              "Portugal             1480\n",
              "Australia            1259\n",
              "Norway               1086\n",
              "Italy                 803\n",
              "Channel Islands       758\n",
              "Finland               695\n",
              "Cyprus                622\n",
              "Sweden                462\n",
              "Austria               401\n",
              "Denmark               389\n",
              "Japan                 358\n",
              "Poland                341\n",
              "Name: Country, dtype: int64"
            ]
          },
          "metadata": {
            "tags": []
          },
          "execution_count": 72
        }
      ]
    },
    {
      "cell_type": "markdown",
      "metadata": {
        "id": "KoEoCeMfUni_"
      },
      "source": [
        "Most Items sold to each Country: Top 20"
      ]
    },
    {
      "cell_type": "code",
      "metadata": {
        "colab": {
          "base_uri": "https://localhost:8080/"
        },
        "id": "X4a4XmDnUrUe",
        "outputId": "8933c9c9-f67c-4ac0-8949-a9b5145dc159"
      },
      "source": [
        "# TopQ20 variable will store the most items sold to the top 20 Countries\n",
        "TopQ20 = data['Quantity'].groupby(data['Country']).agg('sum').sort_values(ascending = False)[1:21]\n",
        "print(TopQ20)"
      ],
      "execution_count": null,
      "outputs": [
        {
          "output_type": "stream",
          "text": [
            "Country\n",
            "Netherlands        200128\n",
            "EIRE               136329\n",
            "Germany            117448\n",
            "France             109848\n",
            "Australia           83653\n",
            "Sweden              35637\n",
            "Switzerland         29778\n",
            "Spain               26824\n",
            "Japan               25218\n",
            "Belgium             23152\n",
            "Norway              19247\n",
            "Portugal            16044\n",
            "Finland             10666\n",
            "Channel Islands      9479\n",
            "Denmark              8188\n",
            "Italy                7999\n",
            "Cyprus               6317\n",
            "Singapore            5234\n",
            "Austria              4827\n",
            "Israel               3990\n",
            "Name: Quantity, dtype: int64\n"
          ],
          "name": "stdout"
        }
      ]
    },
    {
      "cell_type": "markdown",
      "metadata": {
        "id": "kMC62mjoV-F-"
      },
      "source": [
        "Show the most sales"
      ]
    },
    {
      "cell_type": "markdown",
      "metadata": {
        "id": "Llwemt72X4PW"
      },
      "source": [
        "I got stuck here for a bit; to better use our data, we can't show the Sales dependent on one variable: the Unit prices or the quantity sold.\n",
        "We must create a new column to store unit price*Quantity = SalesData. It will be helpful later on with our visualization stage."
      ]
    },
    {
      "cell_type": "code",
      "metadata": {
        "id": "l0UDYiBXZCe8"
      },
      "source": [
        "# Adding a new colum with the Sales Data\n",
        "# SalesData = Quantity x Unit Price\n",
        "data['SalesData'] = data['Quantity'] * data['UnitPrice']"
      ],
      "execution_count": null,
      "outputs": []
    },
    {
      "cell_type": "code",
      "metadata": {
        "id": "THGN6BLHVn9K"
      },
      "source": [
        "# Using the same panda groupby but choosing the salesDara variable\n",
        "# TopS will show each country's salesData\n",
        "# showing only the top 20\n",
        "TopS = data['SalesData'].groupby(data['Country']).agg('sum').sort_values(ascending = False)[1:11]"
      ],
      "execution_count": null,
      "outputs": []
    },
    {
      "cell_type": "code",
      "metadata": {
        "id": "oH_iqfneZlqP"
      },
      "source": [
        "# Printing the most most sales what countries?"
      ],
      "execution_count": null,
      "outputs": []
    },
    {
      "cell_type": "code",
      "metadata": {
        "colab": {
          "base_uri": "https://localhost:8080/"
        },
        "id": "vustEoaQZwfE",
        "outputId": "26776806-b95a-4766-9910-fe4584313356"
      },
      "source": [
        "print(TopS)"
      ],
      "execution_count": null,
      "outputs": [
        {
          "output_type": "stream",
          "text": [
            "Country\n",
            "Netherlands    284661.54\n",
            "EIRE           250285.22\n",
            "Germany        221698.21\n",
            "France         196712.84\n",
            "Australia      137077.27\n",
            "Switzerland     55739.40\n",
            "Spain           54774.58\n",
            "Belgium         40910.96\n",
            "Sweden          36595.91\n",
            "Japan           35340.62\n",
            "Name: SalesData, dtype: float64\n"
          ],
          "name": "stdout"
        }
      ]
    },
    {
      "cell_type": "markdown",
      "metadata": {
        "id": "oBfJNYrjbDJD"
      },
      "source": [
        "Before moving to my next step, I'd like to look at the bottom countries using our \"Store\" to give us a better insight into how to target their market better. I guess that's what a Bussiness Intelligence Analyst will point at."
      ]
    },
    {
      "cell_type": "code",
      "metadata": {
        "colab": {
          "base_uri": "https://localhost:8080/"
        },
        "id": "ggJu5CmedP_j",
        "outputId": "2b2ed483-fa71-4c72-bcab-8e0905ca5033"
      },
      "source": [
        "BottomS= data['SalesData'].groupby(data['Country']).agg('sum').sort_values(ascending = True).head(10)\n",
        "print(BottomS)"
      ],
      "execution_count": null,
      "outputs": [
        {
          "output_type": "stream",
          "text": [
            "Country\n",
            "Saudi Arabia             131.17\n",
            "Bahrain                  548.40\n",
            "Czech Republic           707.72\n",
            "RSA                     1002.31\n",
            "Brazil                  1143.60\n",
            "European Community      1291.75\n",
            "Lithuania               1661.06\n",
            "Lebanon                 1693.88\n",
            "USA                     1730.92\n",
            "United Arab Emirates    1902.28\n",
            "Name: SalesData, dtype: float64\n"
          ],
          "name": "stdout"
        }
      ]
    },
    {
      "cell_type": "markdown",
      "metadata": {
        "id": "FcE_cgzNkFW9"
      },
      "source": [
        "Checking missing and data types, I'll Experimenting with missingno Library after finding my CDS411 Notes with Dr.Kinser. Let's double-check that we're not dealing with any missing values before finalizing our cleaning stage and move to the real Analysis and Visualization part."
      ]
    },
    {
      "cell_type": "code",
      "metadata": {
        "id": "slA6NBr9sAqy",
        "colab": {
          "base_uri": "https://localhost:8080/"
        },
        "outputId": "92590540-e54d-4052-d821-8e03186304d8"
      },
      "source": [
        "print(data.info())"
      ],
      "execution_count": null,
      "outputs": [
        {
          "output_type": "stream",
          "text": [
            "<class 'pandas.core.frame.DataFrame'>\n",
            "Int64Index: 406829 entries, 0 to 541908\n",
            "Data columns (total 10 columns):\n",
            " #   Column       Non-Null Count   Dtype  \n",
            "---  ------       --------------   -----  \n",
            " 0   InvoiceNo    406829 non-null  object \n",
            " 1   StockCode    406829 non-null  object \n",
            " 2   Description  406829 non-null  object \n",
            " 3   Quantity     406829 non-null  int64  \n",
            " 4   InvoiceDate  406829 non-null  object \n",
            " 5   UnitPrice    406829 non-null  float64\n",
            " 6   CustomerID   406829 non-null  object \n",
            " 7   Country      406829 non-null  object \n",
            " 8   Amount       406829 non-null  float64\n",
            " 9   SalesData    406829 non-null  float64\n",
            "dtypes: float64(3), int64(1), object(6)\n",
            "memory usage: 54.1+ MB\n",
            "None\n"
          ],
          "name": "stdout"
        }
      ]
    },
    {
      "cell_type": "code",
      "metadata": {
        "id": "G9wwqJ4i3ihb"
      },
      "source": [
        "data.InvoiceNo.astype('int64')"
      ],
      "execution_count": null,
      "outputs": []
    },
    {
      "cell_type": "code",
      "metadata": {
        "colab": {
          "base_uri": "https://localhost:8080/",
          "height": 1000
        },
        "id": "e9vCHSQlqmD-",
        "outputId": "c3c362bb-3831-4bfc-e7cc-ffbfea02bed4"
      },
      "source": [
        "import missingno as msno # Advanced missing values handling\n",
        "msno.bar(data);\n",
        "msno.heatmap(data);"
      ],
      "execution_count": null,
      "outputs": [
        {
          "output_type": "stream",
          "text": [
            "/usr/local/lib/python3.6/dist-packages/seaborn/matrix.py:311: UserWarning: Attempting to set identical bottom == top == 0 results in singular transformations; automatically expanding.\n",
            "  ax.set(xlim=(0, self.data.shape[1]), ylim=(0, self.data.shape[0]))\n",
            "/usr/local/lib/python3.6/dist-packages/seaborn/matrix.py:311: UserWarning: Attempting to set identical left == right == 0 results in singular transformations; automatically expanding.\n",
            "  ax.set(xlim=(0, self.data.shape[1]), ylim=(0, self.data.shape[0]))\n"
          ],
          "name": "stderr"
        },
        {
          "output_type": "display_data",
          "data": {
            "image/png": "[encoded data removed]",
            "text/plain": [
              "<Figure size 1728x720 with 3 Axes>"
            ]
          },
          "metadata": {
            "tags": [],
            "needs_background": "light"
          }
        },
        {
          "output_type": "display_data",
          "data": {
            "image/png": "[encoded data removed]",
            "text/plain": [
              "<Figure size 1440x864 with 2 Axes>"
            ]
          },
          "metadata": {
            "tags": [],
            "needs_background": "light"
          }
        }
      ]
    },
    {
      "cell_type": "markdown",
      "metadata": {
        "id": "LYPEFHeSZ7N2"
      },
      "source": [
        "Now we have a better understanding of what are the most and least countries we're benefiting from (Great data for our Market and advertising team to work on)\n",
        "Now let's stop for a bit; we need to know the most items sold to those countries, but I also forgot that we have refunded or canceled transactions, so I hope it's already calculated."
      ]
    },
    {
      "cell_type": "markdown",
      "metadata": {
        "id": "u_SgWD7YcPul"
      },
      "source": [
        "We already have any idea of the numbers of uniwue trasactions but let us get an acurate value of the C or cancelead invoices."
      ]
    },
    {
      "cell_type": "code",
      "metadata": {
        "id": "FuHH6xLf49yR",
        "colab": {
          "base_uri": "https://localhost:8080/"
        },
        "outputId": "7fdc4d19-538d-4e34-c832-0780c47ca8c9"
      },
      "source": [
        "# Lambda provides runtimes for Python that run your code to process events.\n",
        "data[\"Cancelled_Transactions\"]=np.where(data.InvoiceNo.apply(lambda l: l[0]==\"C\"), True, False)\n",
        "canceledT = data.Cancelled_Transactions.value_counts()\n",
        "print(canceledT)\n",
        "print(canceledT/ data.shape[0] * 100)"
      ],
      "execution_count": 7,
      "outputs": [
        {
          "output_type": "stream",
          "text": [
            "False    88145\n",
            "True      1733\n",
            "Name: Cancelled_Transactions, dtype: int64\n",
            "False    98.071831\n",
            "True      1.928169\n",
            "Name: Cancelled_Transactions, dtype: float64\n"
          ],
          "name": "stdout"
        }
      ]
    },
    {
      "cell_type": "markdown",
      "metadata": {
        "id": "YB-45N-WeXRE"
      },
      "source": [
        "What about thr countries with the most returned trasactions."
      ]
    },
    {
      "cell_type": "code",
      "metadata": {
        "colab": {
          "base_uri": "https://localhost:8080/",
          "height": 1000
        },
        "id": "raNRNpCWeuWj",
        "outputId": "2c3396c0-e9c5-4803-c99f-d24c72f0663e"
      },
      "source": [
        "returnC = data[['Country', 'InvoiceNo']]\n",
        "returnC= returnC.pivot_table(columns='Country', aggfunc='count')\n",
        "returnC.sort_values('InvoiceNo', axis=1, ascending=False).T"
      ],
      "execution_count": 15,
      "outputs": [
        {
          "output_type": "execute_result",
          "data": {
            "text/html": [
              "<div>\n",
              "<style scoped>\n",
              "    .dataframe tbody tr th:only-of-type {\n",
              "        vertical-align: middle;\n",
              "    }\n",
              "\n",
              "    .dataframe tbody tr th {\n",
              "        vertical-align: top;\n",
              "    }\n",
              "\n",
              "    .dataframe thead th {\n",
              "        text-align: right;\n",
              "    }\n",
              "</style>\n",
              "<table border=\"1\" class=\"dataframe\">\n",
              "  <thead>\n",
              "    <tr style=\"text-align: right;\">\n",
              "      <th></th>\n",
              "      <th>InvoiceNo</th>\n",
              "    </tr>\n",
              "    <tr>\n",
              "      <th>Country</th>\n",
              "      <th></th>\n",
              "    </tr>\n",
              "  </thead>\n",
              "  <tbody>\n",
              "    <tr>\n",
              "      <th>United Kingdom</th>\n",
              "      <td>83185</td>\n",
              "    </tr>\n",
              "    <tr>\n",
              "      <th>Germany</th>\n",
              "      <td>1624</td>\n",
              "    </tr>\n",
              "    <tr>\n",
              "      <th>France</th>\n",
              "      <td>1280</td>\n",
              "    </tr>\n",
              "    <tr>\n",
              "      <th>EIRE</th>\n",
              "      <td>807</td>\n",
              "    </tr>\n",
              "    <tr>\n",
              "      <th>Spain</th>\n",
              "      <td>556</td>\n",
              "    </tr>\n",
              "    <tr>\n",
              "      <th>Netherlands</th>\n",
              "      <td>329</td>\n",
              "    </tr>\n",
              "    <tr>\n",
              "      <th>Portugal</th>\n",
              "      <td>242</td>\n",
              "    </tr>\n",
              "    <tr>\n",
              "      <th>Switzerland</th>\n",
              "      <td>237</td>\n",
              "    </tr>\n",
              "    <tr>\n",
              "      <th>Cyprus</th>\n",
              "      <td>191</td>\n",
              "    </tr>\n",
              "    <tr>\n",
              "      <th>Belgium</th>\n",
              "      <td>183</td>\n",
              "    </tr>\n",
              "    <tr>\n",
              "      <th>Australia</th>\n",
              "      <td>174</td>\n",
              "    </tr>\n",
              "    <tr>\n",
              "      <th>Norway</th>\n",
              "      <td>164</td>\n",
              "    </tr>\n",
              "    <tr>\n",
              "      <th>Italy</th>\n",
              "      <td>156</td>\n",
              "    </tr>\n",
              "    <tr>\n",
              "      <th>Japan</th>\n",
              "      <td>154</td>\n",
              "    </tr>\n",
              "    <tr>\n",
              "      <th>Sweden</th>\n",
              "      <td>74</td>\n",
              "    </tr>\n",
              "    <tr>\n",
              "      <th>Poland</th>\n",
              "      <td>61</td>\n",
              "    </tr>\n",
              "    <tr>\n",
              "      <th>Iceland</th>\n",
              "      <td>60</td>\n",
              "    </tr>\n",
              "    <tr>\n",
              "      <th>Hong Kong</th>\n",
              "      <td>57</td>\n",
              "    </tr>\n",
              "    <tr>\n",
              "      <th>Singapore</th>\n",
              "      <td>56</td>\n",
              "    </tr>\n",
              "    <tr>\n",
              "      <th>Channel Islands</th>\n",
              "      <td>49</td>\n",
              "    </tr>\n",
              "    <tr>\n",
              "      <th>Lebanon</th>\n",
              "      <td>45</td>\n",
              "    </tr>\n",
              "    <tr>\n",
              "      <th>Lithuania</th>\n",
              "      <td>35</td>\n",
              "    </tr>\n",
              "    <tr>\n",
              "      <th>Greece</th>\n",
              "      <td>32</td>\n",
              "    </tr>\n",
              "    <tr>\n",
              "      <th>Austria</th>\n",
              "      <td>30</td>\n",
              "    </tr>\n",
              "    <tr>\n",
              "      <th>United Arab Emirates</th>\n",
              "      <td>30</td>\n",
              "    </tr>\n",
              "    <tr>\n",
              "      <th>Finland</th>\n",
              "      <td>28</td>\n",
              "    </tr>\n",
              "    <tr>\n",
              "      <th>Denmark</th>\n",
              "      <td>20</td>\n",
              "    </tr>\n",
              "    <tr>\n",
              "      <th>Israel</th>\n",
              "      <td>16</td>\n",
              "    </tr>\n",
              "    <tr>\n",
              "      <th>Bahrain</th>\n",
              "      <td>2</td>\n",
              "    </tr>\n",
              "    <tr>\n",
              "      <th>Unite</th>\n",
              "      <td>1</td>\n",
              "    </tr>\n",
              "  </tbody>\n",
              "</table>\n",
              "</div>"
            ],
            "text/plain": [
              "                      InvoiceNo\n",
              "Country                        \n",
              "United Kingdom            83185\n",
              "Germany                    1624\n",
              "France                     1280\n",
              "EIRE                        807\n",
              "Spain                       556\n",
              "Netherlands                 329\n",
              "Portugal                    242\n",
              "Switzerland                 237\n",
              "Cyprus                      191\n",
              "Belgium                     183\n",
              "Australia                   174\n",
              "Norway                      164\n",
              "Italy                       156\n",
              "Japan                       154\n",
              "Sweden                       74\n",
              "Poland                       61\n",
              "Iceland                      60\n",
              "Hong Kong                    57\n",
              "Singapore                    56\n",
              "Channel Islands              49\n",
              "Lebanon                      45\n",
              "Lithuania                    35\n",
              "Greece                       32\n",
              "Austria                      30\n",
              "United Arab Emirates         30\n",
              "Finland                      28\n",
              "Denmark                      20\n",
              "Israel                       16\n",
              "Bahrain                       2\n",
              "Unite                         1"
            ]
          },
          "metadata": {
            "tags": []
          },
          "execution_count": 15
        }
      ]
    },
    {
      "cell_type": "markdown",
      "metadata": {
        "id": "h0Jzwyi7gzMo"
      },
      "source": [
        "*italicized text*"
      ]
    }
  ]
}