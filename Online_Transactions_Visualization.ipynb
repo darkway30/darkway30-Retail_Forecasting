{
  "nbformat": 4,
  "nbformat_minor": 0,
  "metadata": {
    "colab": {
      "name": "Online Transactions Visualization",
      "provenance": [],
      "collapsed_sections": [],
      "authorship_tag": "ABX9TyMTJ5bjfVR1Je0jfrsKXfbC"
    },
    "kernelspec": {
      "name": "python3",
      "display_name": "Python 3"
    }
  },
  "cells": [
    {
      "cell_type": "code",
      "metadata": {
        "id": "sjMKnbm6QjUo"
      },
      "source": [
        "import numpy as np # Linear algebra\n",
        "import pandas as pd # Data processing, CSV file I/O (e.g. pd.read_csv)\n",
        "import matplotlib.pyplot as plt # Data visualization\n",
        "from sklearn.model_selection import TimeSeriesSplit\n",
        "from sklearn.preprocessing import StandardScaler\n",
        "from sklearn.cluster import KMeans"
      ],
      "execution_count": 1,
      "outputs": []
    },
    {
      "cell_type": "markdown",
      "metadata": {
        "id": "VLod8ZiDU8kQ"
      },
      "source": [
        "Part one: We start Understaning our Data."
      ]
    },
    {
      "cell_type": "code",
      "metadata": {
        "id": "nVYtdykXRNGm"
      },
      "source": [
        "# Readin our CSV file trasactions to start analysing the prameters\n",
        "data = pd.read_csv('Online_Retail.csv', encoding = 'unicode_escape')\n"
      ],
      "execution_count": 3,
      "outputs": []
    },
    {
      "cell_type": "code",
      "metadata": {
        "id": "ieBnJjULU4da",
        "colab": {
          "base_uri": "https://localhost:8080/",
          "height": 496
        },
        "outputId": "c8bf7fc3-2f97-435b-b92f-a93ec582a0bd"
      },
      "source": [
        "data.head()"
      ],
      "execution_count": 55,
      "outputs": [
        {
          "output_type": "execute_result",
          "data": {
            "text/html": [
              "<div>\n",
              "<style scoped>\n",
              "    .dataframe tbody tr th:only-of-type {\n",
              "        vertical-align: middle;\n",
              "    }\n",
              "\n",
              "    .dataframe tbody tr th {\n",
              "        vertical-align: top;\n",
              "    }\n",
              "\n",
              "    .dataframe thead th {\n",
              "        text-align: right;\n",
              "    }\n",
              "</style>\n",
              "<table border=\"1\" class=\"dataframe\">\n",
              "  <thead>\n",
              "    <tr style=\"text-align: right;\">\n",
              "      <th></th>\n",
              "      <th>InvoiceNo</th>\n",
              "      <th>StockCode</th>\n",
              "      <th>Description</th>\n",
              "      <th>Quantity</th>\n",
              "      <th>InvoiceDate</th>\n",
              "      <th>UnitPrice</th>\n",
              "      <th>CustomerID</th>\n",
              "      <th>Country</th>\n",
              "      <th>SalesData</th>\n",
              "    </tr>\n",
              "  </thead>\n",
              "  <tbody>\n",
              "    <tr>\n",
              "      <th>0</th>\n",
              "      <td>536365</td>\n",
              "      <td>85123A</td>\n",
              "      <td>WHITE HANGING HEART T-LIGHT HOLDER</td>\n",
              "      <td>6</td>\n",
              "      <td>12/1/10 8:26</td>\n",
              "      <td>2.55</td>\n",
              "      <td>17850.0</td>\n",
              "      <td>United Kingdom</td>\n",
              "      <td>15.30</td>\n",
              "    </tr>\n",
              "    <tr>\n",
              "      <th>1</th>\n",
              "      <td>536365</td>\n",
              "      <td>71053</td>\n",
              "      <td>WHITE METAL LANTERN</td>\n",
              "      <td>6</td>\n",
              "      <td>12/1/10 8:26</td>\n",
              "      <td>3.39</td>\n",
              "      <td>17850.0</td>\n",
              "      <td>United Kingdom</td>\n",
              "      <td>20.34</td>\n",
              "    </tr>\n",
              "    <tr>\n",
              "      <th>2</th>\n",
              "      <td>536365</td>\n",
              "      <td>84406B</td>\n",
              "      <td>CREAM CUPID HEARTS COAT HANGER</td>\n",
              "      <td>8</td>\n",
              "      <td>12/1/10 8:26</td>\n",
              "      <td>2.75</td>\n",
              "      <td>17850.0</td>\n",
              "      <td>United Kingdom</td>\n",
              "      <td>22.00</td>\n",
              "    </tr>\n",
              "    <tr>\n",
              "      <th>3</th>\n",
              "      <td>536365</td>\n",
              "      <td>84029G</td>\n",
              "      <td>KNITTED UNION FLAG HOT WATER BOTTLE</td>\n",
              "      <td>6</td>\n",
              "      <td>12/1/10 8:26</td>\n",
              "      <td>3.39</td>\n",
              "      <td>17850.0</td>\n",
              "      <td>United Kingdom</td>\n",
              "      <td>20.34</td>\n",
              "    </tr>\n",
              "    <tr>\n",
              "      <th>4</th>\n",
              "      <td>536365</td>\n",
              "      <td>84029E</td>\n",
              "      <td>RED WOOLLY HOTTIE WHITE HEART.</td>\n",
              "      <td>6</td>\n",
              "      <td>12/1/10 8:26</td>\n",
              "      <td>3.39</td>\n",
              "      <td>17850.0</td>\n",
              "      <td>United Kingdom</td>\n",
              "      <td>20.34</td>\n",
              "    </tr>\n",
              "  </tbody>\n",
              "</table>\n",
              "</div>"
            ],
            "text/plain": [
              "  InvoiceNo StockCode  ...         Country  SalesData\n",
              "0    536365    85123A  ...  United Kingdom      15.30\n",
              "1    536365     71053  ...  United Kingdom      20.34\n",
              "2    536365    84406B  ...  United Kingdom      22.00\n",
              "3    536365    84029G  ...  United Kingdom      20.34\n",
              "4    536365    84029E  ...  United Kingdom      20.34\n",
              "\n",
              "[5 rows x 9 columns]"
            ]
          },
          "metadata": {
            "tags": []
          },
          "execution_count": 55
        }
      ]
    },
    {
      "cell_type": "code",
      "metadata": {
        "colab": {
          "base_uri": "https://localhost:8080/"
        },
        "id": "P5c-tmxpTSvw",
        "outputId": "b308ee3b-9e9d-40b2-9172-f416787056f2"
      },
      "source": [
        "# Whats the shape of our data\n",
        "# This Dataset contains 532619 rows and 8 columns\n",
        "data.shape"
      ],
      "execution_count": 56,
      "outputs": [
        {
          "output_type": "execute_result",
          "data": {
            "text/plain": [
              "(541909, 9)"
            ]
          },
          "metadata": {
            "tags": []
          },
          "execution_count": 56
        }
      ]
    },
    {
      "cell_type": "code",
      "metadata": {
        "colab": {
          "base_uri": "https://localhost:8080/"
        },
        "id": "0KkUrCR9Td7a",
        "outputId": "f8a43c13-a077-4fe4-8231-e16df7ff361a"
      },
      "source": [
        "# Data information\n",
        "data.info()"
      ],
      "execution_count": 57,
      "outputs": [
        {
          "output_type": "stream",
          "text": [
            "<class 'pandas.core.frame.DataFrame'>\n",
            "RangeIndex: 541909 entries, 0 to 541908\n",
            "Data columns (total 9 columns):\n",
            " #   Column       Non-Null Count   Dtype  \n",
            "---  ------       --------------   -----  \n",
            " 0   InvoiceNo    541909 non-null  object \n",
            " 1   StockCode    541909 non-null  object \n",
            " 2   Description  540455 non-null  object \n",
            " 3   Quantity     541909 non-null  int64  \n",
            " 4   InvoiceDate  541909 non-null  object \n",
            " 5   UnitPrice    541909 non-null  float64\n",
            " 6   CustomerID   406829 non-null  float64\n",
            " 7   Country      541909 non-null  object \n",
            " 8   SalesData    541909 non-null  float64\n",
            "dtypes: float64(3), int64(1), object(5)\n",
            "memory usage: 37.2+ MB\n"
          ],
          "name": "stdout"
        }
      ]
    },
    {
      "cell_type": "markdown",
      "metadata": {
        "id": "a-bqmGDYt4cq"
      },
      "source": [
        "From the data information insight InvoiceNo should be int64; there must be something incorrect with this variable. When attempting to use df.InvoiceNo.astype('int64') I receive an error. it's impossible to convert str into an int, meaning wrong listings in the data. "
      ]
    },
    {
      "cell_type": "markdown",
      "metadata": {
        "id": "O-Zmd9_0fCGL"
      },
      "source": [
        "We can recognize that there are 532619 entries from Data Information, and these are the transactions I'll try to analyze. \n",
        "There is two float type column ('UnitPrice', 'CustomerID)\n",
        "An integer type column ('Quantity'). \n",
        "Five object type column ('InvoiceNo',StockCode','Description','InvoiceDate','Country') "
      ]
    },
    {
      "cell_type": "code",
      "metadata": {
        "colab": {
          "base_uri": "https://localhost:8080/",
          "height": 297
        },
        "id": "ez6clR4YTxl5",
        "outputId": "9ae7dac9-f359-45ca-b559-e4e0bc8756cf"
      },
      "source": [
        "# Description to look for any Null Values before cleaning\n",
        "data.describe()"
      ],
      "execution_count": 58,
      "outputs": [
        {
          "output_type": "execute_result",
          "data": {
            "text/html": [
              "<div>\n",
              "<style scoped>\n",
              "    .dataframe tbody tr th:only-of-type {\n",
              "        vertical-align: middle;\n",
              "    }\n",
              "\n",
              "    .dataframe tbody tr th {\n",
              "        vertical-align: top;\n",
              "    }\n",
              "\n",
              "    .dataframe thead th {\n",
              "        text-align: right;\n",
              "    }\n",
              "</style>\n",
              "<table border=\"1\" class=\"dataframe\">\n",
              "  <thead>\n",
              "    <tr style=\"text-align: right;\">\n",
              "      <th></th>\n",
              "      <th>Quantity</th>\n",
              "      <th>UnitPrice</th>\n",
              "      <th>CustomerID</th>\n",
              "      <th>SalesData</th>\n",
              "    </tr>\n",
              "  </thead>\n",
              "  <tbody>\n",
              "    <tr>\n",
              "      <th>count</th>\n",
              "      <td>541909.000000</td>\n",
              "      <td>541909.000000</td>\n",
              "      <td>406829.000000</td>\n",
              "      <td>541909.000000</td>\n",
              "    </tr>\n",
              "    <tr>\n",
              "      <th>mean</th>\n",
              "      <td>9.552250</td>\n",
              "      <td>4.611114</td>\n",
              "      <td>15287.690570</td>\n",
              "      <td>17.987795</td>\n",
              "    </tr>\n",
              "    <tr>\n",
              "      <th>std</th>\n",
              "      <td>218.081158</td>\n",
              "      <td>96.759853</td>\n",
              "      <td>1713.600303</td>\n",
              "      <td>378.810824</td>\n",
              "    </tr>\n",
              "    <tr>\n",
              "      <th>min</th>\n",
              "      <td>-80995.000000</td>\n",
              "      <td>-11062.060000</td>\n",
              "      <td>12346.000000</td>\n",
              "      <td>-168469.600000</td>\n",
              "    </tr>\n",
              "    <tr>\n",
              "      <th>25%</th>\n",
              "      <td>1.000000</td>\n",
              "      <td>1.250000</td>\n",
              "      <td>13953.000000</td>\n",
              "      <td>3.400000</td>\n",
              "    </tr>\n",
              "    <tr>\n",
              "      <th>50%</th>\n",
              "      <td>3.000000</td>\n",
              "      <td>2.080000</td>\n",
              "      <td>15152.000000</td>\n",
              "      <td>9.750000</td>\n",
              "    </tr>\n",
              "    <tr>\n",
              "      <th>75%</th>\n",
              "      <td>10.000000</td>\n",
              "      <td>4.130000</td>\n",
              "      <td>16791.000000</td>\n",
              "      <td>17.400000</td>\n",
              "    </tr>\n",
              "    <tr>\n",
              "      <th>max</th>\n",
              "      <td>80995.000000</td>\n",
              "      <td>38970.000000</td>\n",
              "      <td>18287.000000</td>\n",
              "      <td>168469.600000</td>\n",
              "    </tr>\n",
              "  </tbody>\n",
              "</table>\n",
              "</div>"
            ],
            "text/plain": [
              "            Quantity      UnitPrice     CustomerID      SalesData\n",
              "count  541909.000000  541909.000000  406829.000000  541909.000000\n",
              "mean        9.552250       4.611114   15287.690570      17.987795\n",
              "std       218.081158      96.759853    1713.600303     378.810824\n",
              "min    -80995.000000  -11062.060000   12346.000000 -168469.600000\n",
              "25%         1.000000       1.250000   13953.000000       3.400000\n",
              "50%         3.000000       2.080000   15152.000000       9.750000\n",
              "75%        10.000000       4.130000   16791.000000      17.400000\n",
              "max     80995.000000   38970.000000   18287.000000  168469.600000"
            ]
          },
          "metadata": {
            "tags": []
          },
          "execution_count": 58
        }
      ]
    },
    {
      "cell_type": "code",
      "metadata": {
        "id": "wOP6sHaoVwF8",
        "colab": {
          "base_uri": "https://localhost:8080/"
        },
        "outputId": "ce842486-5a4c-4094-9187-11069d2dff5f"
      },
      "source": [
        "Null_percentage = data.isnull().sum() / data.shape[0] * 100\n",
        "Null_percentage"
      ],
      "execution_count": 59,
      "outputs": [
        {
          "output_type": "execute_result",
          "data": {
            "text/plain": [
              "InvoiceNo       0.000000\n",
              "StockCode       0.000000\n",
              "Description     0.268311\n",
              "Quantity        0.000000\n",
              "InvoiceDate     0.000000\n",
              "UnitPrice       0.000000\n",
              "CustomerID     24.926694\n",
              "Country         0.000000\n",
              "SalesData       0.000000\n",
              "dtype: float64"
            ]
          },
          "metadata": {
            "tags": []
          },
          "execution_count": 59
        }
      ]
    },
    {
      "cell_type": "markdown",
      "metadata": {
        "id": "K6HpZvWygf8g"
      },
      "source": [
        "Approximately 25 % of the customers are unknown or Null, and 0.2% items were missing; these values that we'll have to remove to better understand the actual data. "
      ]
    },
    {
      "cell_type": "code",
      "metadata": {
        "id": "nDr_8eidVI9S",
        "colab": {
          "base_uri": "https://localhost:8080/"
        },
        "outputId": "939e7246-37a0-4c08-8fa9-70fee90dcca0"
      },
      "source": [
        "# now we can get an idea about the actual numbers\n",
        "data.isnull().sum().sort_values(ascending=False)"
      ],
      "execution_count": 60,
      "outputs": [
        {
          "output_type": "execute_result",
          "data": {
            "text/plain": [
              "CustomerID     135080\n",
              "Description      1454\n",
              "SalesData           0\n",
              "Country             0\n",
              "UnitPrice           0\n",
              "InvoiceDate         0\n",
              "Quantity            0\n",
              "StockCode           0\n",
              "InvoiceNo           0\n",
              "dtype: int64"
            ]
          },
          "metadata": {
            "tags": []
          },
          "execution_count": 60
        }
      ]
    },
    {
      "cell_type": "markdown",
      "metadata": {
        "id": "YuoWbLc2hHhJ"
      },
      "source": [
        "With this information, we need to point to the business owner that we're missing a lot 25% is an immense value to miss. Something they can work on recovering."
      ]
    },
    {
      "cell_type": "markdown",
      "metadata": {
        "id": "8Sye9Cnvh0UI"
      },
      "source": [
        "We move to the next step: Cleaning our data to be more comfortable and more precise to analyze."
      ]
    },
    {
      "cell_type": "code",
      "metadata": {
        "id": "-1KjTsBC4z0X",
        "colab": {
          "base_uri": "https://localhost:8080/"
        },
        "outputId": "0040f3d7-bf14-44b7-f578-95e5cd2526bb"
      },
      "source": [
        "# Remving the missing values with Panda Drop format\n",
        "data = data.dropna()\n",
        "data.shape"
      ],
      "execution_count": 61,
      "outputs": [
        {
          "output_type": "execute_result",
          "data": {
            "text/plain": [
              "(406829, 9)"
            ]
          },
          "metadata": {
            "tags": []
          },
          "execution_count": 61
        }
      ]
    },
    {
      "cell_type": "code",
      "metadata": {
        "colab": {
          "base_uri": "https://localhost:8080/"
        },
        "id": "HPZlQF1vjtoX",
        "outputId": "a4bf4654-569e-4bba-eed5-a6cce2531705"
      },
      "source": [
        "# making sure that our data is not missing in more values\n",
        "data.isnull().sum().sum()"
      ],
      "execution_count": 62,
      "outputs": [
        {
          "output_type": "execute_result",
          "data": {
            "text/plain": [
              "0"
            ]
          },
          "metadata": {
            "tags": []
          },
          "execution_count": 62
        }
      ]
    },
    {
      "cell_type": "markdown",
      "metadata": {
        "id": "KxwOM_Xnkq54"
      },
      "source": [
        "Part three: let's explore our parameters\n",
        "Countries/Stock that we can Visualize later to understand the countries we should focus on and the Items sold."
      ]
    },
    {
      "cell_type": "markdown",
      "metadata": {
        "id": "yA3a2ao8w32R"
      },
      "source": [
        "Analyzing Customers  based on orders:\n",
        "\n",
        "1) Invoices\n",
        "2) Items prusched\n",
        "3) Item describtion\n",
        "4) Recent order made per customer"
      ]
    },
    {
      "cell_type": "code",
      "metadata": {
        "colab": {
          "base_uri": "https://localhost:8080/"
        },
        "id": "FZBlk5bfk3Ie",
        "outputId": "43edd16f-a71f-4f02-8d0f-14f41a6946d1"
      },
      "source": [
        "# How many Unique Invoices made in our 40+ Data\n",
        "data.InvoiceNo.nunique()"
      ],
      "execution_count": 63,
      "outputs": [
        {
          "output_type": "execute_result",
          "data": {
            "text/plain": [
              "22190"
            ]
          },
          "metadata": {
            "tags": []
          },
          "execution_count": 63
        }
      ]
    },
    {
      "cell_type": "markdown",
      "metadata": {
        "id": "FxVAGeyew-B1"
      },
      "source": [
        "Stock items"
      ]
    },
    {
      "cell_type": "code",
      "metadata": {
        "colab": {
          "base_uri": "https://localhost:8080/"
        },
        "id": "WGHtWdmtxB86",
        "outputId": "60b9bf34-14ed-47c1-d8ae-ca37194c6578"
      },
      "source": [
        "# How many Unique Items(Stock Code) made in our 40+ Data\n",
        "data.StockCode.nunique()\n"
      ],
      "execution_count": 79,
      "outputs": [
        {
          "output_type": "execute_result",
          "data": {
            "text/plain": [
              "3684"
            ]
          },
          "metadata": {
            "tags": []
          },
          "execution_count": 79
        }
      ]
    },
    {
      "cell_type": "code",
      "metadata": {
        "id": "b1c9U35F6PRf"
      },
      "source": [
        "StockCodes = data.StockCode.value_counts().sort_values(ascending=False)"
      ],
      "execution_count": null,
      "outputs": []
    },
    {
      "cell_type": "markdown",
      "metadata": {
        "id": "snnYZxoO52E9"
      },
      "source": [
        "Plotting the most common StockCodes"
      ]
    },
    {
      "cell_type": "code",
      "metadata": {
        "colab": {
          "base_uri": "https://localhost:8080/",
          "height": 396
        },
        "id": "uQMm9UyQ5zAz",
        "outputId": "84459036-e582-47fe-f555-692a8320d3ba"
      },
      "source": [
        "plt.subplots(figsize=(25,15))\n",
        "sns.barplot(x = StockCodes.iloc[0:20].index, y=  StockCodes.iloc[0:20].values, palette=\"Purples_r\")\n",
        "plt.ylabel(\"Counts\")\n",
        "plt.xlabel(\"Stockcode\")\n",
        "plt.title(\" Most stockcodes Sold\");"
      ],
      "execution_count": 103,
      "outputs": [
        {
          "output_type": "display_data",
          "data": {
            "image/png": "[encoded data removed]",
            "text/plain": [
              "<Figure size 1800x1080 with 1 Axes>"
            ]
          },
          "metadata": {
            "tags": [],
            "needs_background": "light"
          }
        }
      ]
    },
    {
      "cell_type": "markdown",
      "metadata": {
        "id": "U-XAkdc5x3I9"
      },
      "source": [
        "Descriptions"
      ]
    },
    {
      "cell_type": "code",
      "metadata": {
        "colab": {
          "base_uri": "https://localhost:8080/"
        },
        "id": "Gulbo5Y9x7S1",
        "outputId": "bbb79018-062a-4dbb-a184-9b575061dd17"
      },
      "source": [
        "data.Description.nunique()"
      ],
      "execution_count": 65,
      "outputs": [
        {
          "output_type": "execute_result",
          "data": {
            "text/plain": [
              "3896"
            ]
          },
          "metadata": {
            "tags": []
          },
          "execution_count": 65
        }
      ]
    },
    {
      "cell_type": "markdown",
      "metadata": {
        "id": "CI86Ph966t_2"
      },
      "source": [
        "Since we have only 22190 Unique invoices, let's analyze our customers and look at their total number of transactions made this year and their last purchase.\n",
        "However, in a later step, a NaN Description shows us a failed transaction, so we will have to deal with NaN values to analyze our customers better."
      ]
    },
    {
      "cell_type": "code",
      "metadata": {
        "id": "J27sq9wvvSSj"
      },
      "source": [
        "# Changing our CustomerID data to get a more accurate results."
      ],
      "execution_count": null,
      "outputs": []
    },
    {
      "cell_type": "code",
      "metadata": {
        "id": "MDiBbxJ7vi50"
      },
      "source": [
        "data['CustomerID'] = data['CustomerID'].astype(str)"
      ],
      "execution_count": 66,
      "outputs": []
    },
    {
      "cell_type": "markdown",
      "metadata": {
        "id": "aj2nSXKIFM-g"
      },
      "source": [
        "The top 20 Customers with most numbers of trasactions"
      ]
    },
    {
      "cell_type": "code",
      "metadata": {
        "colab": {
          "base_uri": "https://localhost:8080/"
        },
        "id": "-T5HZtS8FMYd",
        "outputId": "e1844ac7-a7e9-4c2a-d6da-3e1e9ba57cd2"
      },
      "source": [
        "data.CustomerID.nunique()"
      ],
      "execution_count": 104,
      "outputs": [
        {
          "output_type": "execute_result",
          "data": {
            "text/plain": [
              "4372"
            ]
          },
          "metadata": {
            "tags": []
          },
          "execution_count": 104
        }
      ]
    },
    {
      "cell_type": "code",
      "metadata": {
        "id": "UlNDuKHsFjPl"
      },
      "source": [
        "TopC = data.CustomerID.value_counts().sort_values(ascending=False)"
      ],
      "execution_count": 105,
      "outputs": []
    },
    {
      "cell_type": "code",
      "metadata": {
        "colab": {
          "base_uri": "https://localhost:8080/",
          "height": 396
        },
        "id": "HWSlwsxWFtCt",
        "outputId": "eb3ec5bb-b2ef-4823-ba31-de6f5a936950"
      },
      "source": [
        "plt.subplots(figsize=(25,15))\n",
        "sns.barplot(x = TopC.iloc[0:20].index, y= TopC.iloc[0:20].values, palette=\"Spectral\")\n",
        "plt.ylabel(\"Counts\")\n",
        "plt.xlabel(\"CustomerID\")\n",
        "plt.title(\" Top 20 Customers using our store\");"
      ],
      "execution_count": 110,
      "outputs": [
        {
          "output_type": "display_data",
          "data": {
            "image/png": "[encoded data removed]",
            "text/plain": [
              "<Figure size 1800x1080 with 1 Axes>"
            ]
          },
          "metadata": {
            "tags": [],
            "needs_background": "light"
          }
        }
      ]
    },
    {
      "cell_type": "code",
      "metadata": {
        "id": "lbwDfE-gotu4"
      },
      "source": [
        "# amount = [the items sold] x [price]\n",
        "data['Amount'] = data['Quantity']*data['UnitPrice']\n",
        "# pandas. DataFrame. groupby to sum our to values\n",
        "total_t = data.groupby('CustomerID')['Amount'].sum()\n",
        "total_t = total_t.reset_index()"
      ],
      "execution_count": 67,
      "outputs": []
    },
    {
      "cell_type": "code",
      "metadata": {
        "colab": {
          "base_uri": "https://localhost:8080/",
          "height": 204
        },
        "id": "i1ogqlkSq69I",
        "outputId": "40367114-8018-446c-bd59-cc6ec6363073"
      },
      "source": [
        "# let's explore our first attribute\n",
        "total_t.head()\n"
      ],
      "execution_count": 68,
      "outputs": [
        {
          "output_type": "execute_result",
          "data": {
            "text/html": [
              "<div>\n",
              "<style scoped>\n",
              "    .dataframe tbody tr th:only-of-type {\n",
              "        vertical-align: middle;\n",
              "    }\n",
              "\n",
              "    .dataframe tbody tr th {\n",
              "        vertical-align: top;\n",
              "    }\n",
              "\n",
              "    .dataframe thead th {\n",
              "        text-align: right;\n",
              "    }\n",
              "</style>\n",
              "<table border=\"1\" class=\"dataframe\">\n",
              "  <thead>\n",
              "    <tr style=\"text-align: right;\">\n",
              "      <th></th>\n",
              "      <th>CustomerID</th>\n",
              "      <th>Amount</th>\n",
              "    </tr>\n",
              "  </thead>\n",
              "  <tbody>\n",
              "    <tr>\n",
              "      <th>0</th>\n",
              "      <td>12346.0</td>\n",
              "      <td>0.00</td>\n",
              "    </tr>\n",
              "    <tr>\n",
              "      <th>1</th>\n",
              "      <td>12347.0</td>\n",
              "      <td>4310.00</td>\n",
              "    </tr>\n",
              "    <tr>\n",
              "      <th>2</th>\n",
              "      <td>12348.0</td>\n",
              "      <td>1797.24</td>\n",
              "    </tr>\n",
              "    <tr>\n",
              "      <th>3</th>\n",
              "      <td>12349.0</td>\n",
              "      <td>1757.55</td>\n",
              "    </tr>\n",
              "    <tr>\n",
              "      <th>4</th>\n",
              "      <td>12350.0</td>\n",
              "      <td>334.40</td>\n",
              "    </tr>\n",
              "  </tbody>\n",
              "</table>\n",
              "</div>"
            ],
            "text/plain": [
              "  CustomerID   Amount\n",
              "0    12346.0     0.00\n",
              "1    12347.0  4310.00\n",
              "2    12348.0  1797.24\n",
              "3    12349.0  1757.55\n",
              "4    12350.0   334.40"
            ]
          },
          "metadata": {
            "tags": []
          },
          "execution_count": 68
        }
      ]
    },
    {
      "cell_type": "markdown",
      "metadata": {
        "id": "WuLz1ZNQBMmY"
      },
      "source": [
        "We'll go more in-depth with our data to pinpoint the transactions flow: Countries, Customers, and items.\n",
        "This method can help us with our Time Series report for a specific country or region. \n"
      ]
    },
    {
      "cell_type": "markdown",
      "metadata": {
        "id": "WWarTORwUdQ2"
      },
      "source": [
        "Focusing on the top Countries and the most Items sold"
      ]
    },
    {
      "cell_type": "code",
      "metadata": {
        "id": "OV_Z-lzuTbyp"
      },
      "source": [
        "# checking the different values for the top 20 countries\n",
        "Top20UK = data['Country'].value_counts().head(2)"
      ],
      "execution_count": 11,
      "outputs": []
    },
    {
      "cell_type": "code",
      "metadata": {
        "colab": {
          "base_uri": "https://localhost:8080/",
          "height": 647
        },
        "id": "yYPDBYjxs_9q",
        "outputId": "64f64c41-4e5d-4c18-d06d-e83d32d7c3f5"
      },
      "source": [
        "z= plt.rcParams['figure.figsize'] = (13, 10)\n",
        "sns.barplot(x = Top20UK.values, y = Top20UK.index, palette = 'Dark2')\n",
        "plt.title('Top 20 Countries with UK', fontsize = 20)\n",
        "plt.xlabel('Names of Countries')\n",
        "plt.ylabel('Count')\n",
        "plt.show()"
      ],
      "execution_count": 84,
      "outputs": [
        {
          "output_type": "display_data",
          "data": {
            "image/png": "[encoded data removed]",
            "text/plain": [
              "<Figure size 936x720 with 1 Axes>"
            ]
          },
          "metadata": {
            "tags": [],
            "needs_background": "light"
          }
        }
      ]
    },
    {
      "cell_type": "markdown",
      "metadata": {
        "id": "eybk5CMYvRZD"
      },
      "source": [
        "Let's focus without UK"
      ]
    },
    {
      "cell_type": "markdown",
      "metadata": {
        "id": "KoEoCeMfUni_"
      },
      "source": [
        "Most Items sold to each Country: Top 20"
      ]
    },
    {
      "cell_type": "code",
      "metadata": {
        "colab": {
          "base_uri": "https://localhost:8080/"
        },
        "id": "X4a4XmDnUrUe",
        "outputId": "8ab3e3b9-5813-4e93-a5d1-a26f6596fe66"
      },
      "source": [
        "# TopQ20 variable will store the most items sold to the top 20 Countries\n",
        "# not including UK, we will analyze UK sales later on\n",
        "TopQ20 = data['Quantity'].groupby(data['Country']).agg('sum').sort_values(ascending = False)[1:21]\n",
        "print(TopQ20)"
      ],
      "execution_count": 4,
      "outputs": [
        {
          "output_type": "stream",
          "text": [
            "Country\n",
            "Netherlands        200128\n",
            "EIRE               142637\n",
            "Germany            117448\n",
            "France             110480\n",
            "Australia           83653\n",
            "Sweden              35637\n",
            "Switzerland         30325\n",
            "Spain               26824\n",
            "Japan               25218\n",
            "Belgium             23152\n",
            "Norway              19247\n",
            "Portugal            16180\n",
            "Finland             10666\n",
            "Channel Islands      9479\n",
            "Denmark              8188\n",
            "Italy                7999\n",
            "Cyprus               6317\n",
            "Singapore            5234\n",
            "Austria              4827\n",
            "Hong Kong            4769\n",
            "Name: Quantity, dtype: int64\n"
          ],
          "name": "stdout"
        }
      ]
    },
    {
      "cell_type": "code",
      "metadata": {
        "colab": {
          "base_uri": "https://localhost:8080/",
          "height": 506
        },
        "id": "kCKPDO8loyE7",
        "outputId": "3743e608-9366-4fcb-b53c-d55bb8bb0d4c"
      },
      "source": [
        "# now let us plot our top 20 Countries using our online store\n",
        "# that will help us when reporting (using barplot)\n",
        "# storing our top countries in 'top20' and then plot it\n",
        "import seaborn as sns\n",
        "plt.rcParams['figure.figsize'] = (12, 10)\n",
        "top20 = data['Quantity'].groupby(data['Country']).agg('sum').sort_values(ascending = False)[1:21]\n",
        "sns.barplot(x = top20.values, y = top20.index, palette = 'Dark2')\n",
        "plt.title('Most Sales (No UK)', fontsize = 20)\n",
        "plt.xlabel('Names of Countries')\n",
        "plt.ylabel('Count')\n",
        "plt.show()"
      ],
      "execution_count": 49,
      "outputs": [
        {
          "output_type": "display_data",
          "data": {
            "image/png": "[encoded data removed]",
            "text/plain": [
              "<Figure size 864x720 with 1 Axes>"
            ]
          },
          "metadata": {
            "tags": [],
            "needs_background": "light"
          }
        }
      ]
    },
    {
      "cell_type": "markdown",
      "metadata": {
        "id": "kMC62mjoV-F-"
      },
      "source": [
        "Show the most sales"
      ]
    },
    {
      "cell_type": "markdown",
      "metadata": {
        "id": "Llwemt72X4PW"
      },
      "source": [
        "I got stuck here for a bit; to better use our data, we can't show the Sales dependent on one variable: the Unit prices or the quantity sold.\n",
        "We must create a new column to store unit price*Quantity = SalesData. It will be helpful later on with our visualization stage."
      ]
    },
    {
      "cell_type": "code",
      "metadata": {
        "id": "l0UDYiBXZCe8"
      },
      "source": [
        "# Adding a new colum with the Sales Data\n",
        "# SalesData = Quantity x Unit Price\n",
        "data['SalesData'] = data['Quantity'] * data['UnitPrice']"
      ],
      "execution_count": 24,
      "outputs": []
    },
    {
      "cell_type": "code",
      "metadata": {
        "id": "THGN6BLHVn9K"
      },
      "source": [
        "# Using the same panda groupby but choosing the salesDara variable\n",
        "# TopS will show each country's salesData\n",
        "# showing only the top 20 without UK to have a better plot.\n",
        "TopS = data['SalesData'].groupby(data['Country']).agg('sum').sort_values(ascending = False)[1:11]"
      ],
      "execution_count": 25,
      "outputs": []
    },
    {
      "cell_type": "code",
      "metadata": {
        "colab": {
          "base_uri": "https://localhost:8080/"
        },
        "id": "vustEoaQZwfE",
        "outputId": "26776806-b95a-4766-9910-fe4584313356"
      },
      "source": [
        "# Printing the most most sales what countries?\n",
        "print(TopS)"
      ],
      "execution_count": null,
      "outputs": [
        {
          "output_type": "stream",
          "text": [
            "Country\n",
            "Netherlands    284661.54\n",
            "EIRE           250285.22\n",
            "Germany        221698.21\n",
            "France         196712.84\n",
            "Australia      137077.27\n",
            "Switzerland     55739.40\n",
            "Spain           54774.58\n",
            "Belgium         40910.96\n",
            "Sweden          36595.91\n",
            "Japan           35340.62\n",
            "Name: SalesData, dtype: float64\n"
          ],
          "name": "stdout"
        }
      ]
    },
    {
      "cell_type": "markdown",
      "metadata": {
        "id": "oBfJNYrjbDJD"
      },
      "source": [
        "Before moving to my next step, I'd like to look at the bottom countries using our \"Store\" to give us a better insight into how to target their market better. I guess that's what a Bussiness Intelligence Analyst will point at."
      ]
    },
    {
      "cell_type": "code",
      "metadata": {
        "colab": {
          "base_uri": "https://localhost:8080/"
        },
        "id": "ggJu5CmedP_j",
        "outputId": "0668b308-07a8-459d-9cf8-96e408d0e214"
      },
      "source": [
        "BottomS= data['SalesData'].groupby(data['Country']).agg('sum').sort_values(ascending = True).head(20)\n",
        "print(BottomS)"
      ],
      "execution_count": 46,
      "outputs": [
        {
          "output_type": "stream",
          "text": [
            "Country\n",
            "Saudi Arabia              131.17\n",
            "Bahrain                   548.40\n",
            "Czech Republic            707.72\n",
            "RSA                      1002.31\n",
            "Brazil                   1143.60\n",
            "European Community       1291.75\n",
            "Lithuania                1661.06\n",
            "Lebanon                  1693.88\n",
            "USA                      1730.92\n",
            "United Arab Emirates     1902.28\n",
            "Malta                    2505.47\n",
            "Canada                   3666.38\n",
            "Iceland                  4310.00\n",
            "Greece                   4710.52\n",
            "Unspecified              4749.79\n",
            "Poland                   7213.14\n",
            "Israel                   7907.82\n",
            "Singapore                9120.39\n",
            "Hong Kong               10117.04\n",
            "Austria                 10154.32\n",
            "Name: SalesData, dtype: float64\n"
          ],
          "name": "stdout"
        }
      ]
    },
    {
      "cell_type": "code",
      "metadata": {
        "colab": {
          "base_uri": "https://localhost:8080/",
          "height": 459
        },
        "id": "et9uDjUJvmiA",
        "outputId": "90ae83ab-fadf-4082-f128-af1930fd30b7"
      },
      "source": [
        "plt.rcParams['figure.figsize'] = (13, 10)\n",
        "sns.barplot(x = BottomS.values, y = BottomS.index, palette = 'flare')\n",
        "plt.title('Bottom 20 Countries (Sales)', fontsize = 20)\n",
        "plt.xlabel('Names of Countries')\n",
        "plt.ylabel('Count')\n",
        "plt.show()"
      ],
      "execution_count": null,
      "outputs": [
        {
          "output_type": "display_data",
          "data": {
            "image/png": "[encoded data removed]",
            "text/plain": [
              "<Figure size 936x720 with 1 Axes>"
            ]
          },
          "metadata": {
            "tags": [],
            "needs_background": "light"
          }
        }
      ]
    },
    {
      "cell_type": "code",
      "metadata": {
        "colab": {
          "base_uri": "https://localhost:8080/",
          "height": 453
        },
        "id": "kgLhoxx9xxs8",
        "outputId": "e4db3b6b-6bbc-4bac-f49b-70c9e0e1dda8"
      },
      "source": [
        "# visualizing the sales in the entire globe\n",
        "plt.subplots(nrows = 1, ncols=1, figsize= (15, 9))\n",
        "sns.distplot(data['SalesData'], color = 'blue')\n",
        "plt.title('Distribution of Sales', fontsize = 20)\n",
        "plt.xlabel('Sales in different Countries')\n",
        "plt.ylabel('Sales')\n",
        "plt.show()\n"
      ],
      "execution_count": 76,
      "outputs": [
        {
          "output_type": "stream",
          "text": [
            "/usr/local/lib/python3.6/dist-packages/seaborn/distributions.py:2551: FutureWarning: `distplot` is a deprecated function and will be removed in a future version. Please adapt your code to use either `displot` (a figure-level function with similar flexibility) or `histplot` (an axes-level function for histograms).\n",
            "  warnings.warn(msg, FutureWarning)\n"
          ],
          "name": "stderr"
        },
        {
          "output_type": "display_data",
          "data": {
            "image/png": "[encoded data removed]",
            "text/plain": [
              "<Figure size 1080x648 with 1 Axes>"
            ]
          },
          "metadata": {
            "tags": [],
            "needs_background": "light"
          }
        }
      ]
    },
    {
      "cell_type": "markdown",
      "metadata": {
        "id": "FcE_cgzNkFW9"
      },
      "source": [
        "Checking missing and data types, I'll Experimenting with missingno Library after finding my CDS411 Notes with Dr.Kinser. Let's double-check that we're not dealing with any missing values before finalizing our cleaning stage and move to the real Analysis and Visualization part."
      ]
    },
    {
      "cell_type": "code",
      "metadata": {
        "id": "slA6NBr9sAqy",
        "colab": {
          "base_uri": "https://localhost:8080/"
        },
        "outputId": "92590540-e54d-4052-d821-8e03186304d8"
      },
      "source": [
        "print(data.info())"
      ],
      "execution_count": null,
      "outputs": [
        {
          "output_type": "stream",
          "text": [
            "<class 'pandas.core.frame.DataFrame'>\n",
            "Int64Index: 406829 entries, 0 to 541908\n",
            "Data columns (total 10 columns):\n",
            " #   Column       Non-Null Count   Dtype  \n",
            "---  ------       --------------   -----  \n",
            " 0   InvoiceNo    406829 non-null  object \n",
            " 1   StockCode    406829 non-null  object \n",
            " 2   Description  406829 non-null  object \n",
            " 3   Quantity     406829 non-null  int64  \n",
            " 4   InvoiceDate  406829 non-null  object \n",
            " 5   UnitPrice    406829 non-null  float64\n",
            " 6   CustomerID   406829 non-null  object \n",
            " 7   Country      406829 non-null  object \n",
            " 8   Amount       406829 non-null  float64\n",
            " 9   SalesData    406829 non-null  float64\n",
            "dtypes: float64(3), int64(1), object(6)\n",
            "memory usage: 54.1+ MB\n",
            "None\n"
          ],
          "name": "stdout"
        }
      ]
    },
    {
      "cell_type": "code",
      "metadata": {
        "id": "G9wwqJ4i3ihb"
      },
      "source": [
        "data.InvoiceNo.astype('int64')"
      ],
      "execution_count": null,
      "outputs": []
    },
    {
      "cell_type": "code",
      "metadata": {
        "colab": {
          "base_uri": "https://localhost:8080/",
          "height": 1000
        },
        "id": "e9vCHSQlqmD-",
        "outputId": "c3c362bb-3831-4bfc-e7cc-ffbfea02bed4"
      },
      "source": [
        "import missingno as msno # Advanced missing values handling\n",
        "msno.bar(data);\n",
        "msno.heatmap(data);"
      ],
      "execution_count": null,
      "outputs": [
        {
          "output_type": "stream",
          "text": [
            "/usr/local/lib/python3.6/dist-packages/seaborn/matrix.py:311: UserWarning: Attempting to set identical bottom == top == 0 results in singular transformations; automatically expanding.\n",
            "  ax.set(xlim=(0, self.data.shape[1]), ylim=(0, self.data.shape[0]))\n",
            "/usr/local/lib/python3.6/dist-packages/seaborn/matrix.py:311: UserWarning: Attempting to set identical left == right == 0 results in singular transformations; automatically expanding.\n",
            "  ax.set(xlim=(0, self.data.shape[1]), ylim=(0, self.data.shape[0]))\n"
          ],
          "name": "stderr"
        },
        {
          "output_type": "display_data",
          "data": {
            "image/png": "[encoded data removed]",
            "text/plain": [
              "<Figure size 1728x720 with 3 Axes>"
            ]
          },
          "metadata": {
            "tags": [],
            "needs_background": "light"
          }
        },
        {
          "output_type": "display_data",
          "data": {
            "image/png": "[encoded data removed]",
            "text/plain": [
              "<Figure size 1440x864 with 2 Axes>"
            ]
          },
          "metadata": {
            "tags": [],
            "needs_background": "light"
          }
        }
      ]
    },
    {
      "cell_type": "markdown",
      "metadata": {
        "id": "LYPEFHeSZ7N2"
      },
      "source": [
        "Now we have a better understanding of what are the most and least countries we're benefiting from (Great data for our Market and advertising team to work on)\n",
        "Now let's stop for a bit; we need to know the most items sold to those countries, but I also forgot that we have refunded or canceled transactions, so I hope it's already calculated."
      ]
    },
    {
      "cell_type": "markdown",
      "metadata": {
        "id": "u_SgWD7YcPul"
      },
      "source": [
        "We already have any idea of the numbers of uniwue trasactions but let us get an acurate value of the C or cancelead invoices."
      ]
    },
    {
      "cell_type": "code",
      "metadata": {
        "id": "FuHH6xLf49yR",
        "colab": {
          "base_uri": "https://localhost:8080/"
        },
        "outputId": "7fdc4d19-538d-4e34-c832-0780c47ca8c9"
      },
      "source": [
        "# Lambda provides runtimes for Python that run your code to process events.\n",
        "data[\"Cancelled_Transactions\"]=np.where(data.InvoiceNo.apply(lambda l: l[0]==\"C\"), True, False)\n",
        "canceledT = data.Cancelled_Transactions.value_counts()\n",
        "print(canceledT)\n",
        "print(canceledT/ data.shape[0] * 100)"
      ],
      "execution_count": null,
      "outputs": [
        {
          "output_type": "stream",
          "text": [
            "False    88145\n",
            "True      1733\n",
            "Name: Cancelled_Transactions, dtype: int64\n",
            "False    98.071831\n",
            "True      1.928169\n",
            "Name: Cancelled_Transactions, dtype: float64\n"
          ],
          "name": "stdout"
        }
      ]
    },
    {
      "cell_type": "markdown",
      "metadata": {
        "id": "3BCWEGyskyTx"
      },
      "source": [
        "Data Visualization"
      ]
    },
    {
      "cell_type": "markdown",
      "metadata": {
        "id": "YB-45N-WeXRE"
      },
      "source": [
        "What about thr countries with the most returned trasactions."
      ]
    },
    {
      "cell_type": "code",
      "metadata": {
        "colab": {
          "base_uri": "https://localhost:8080/",
          "height": 1000
        },
        "id": "raNRNpCWeuWj",
        "outputId": "69da94b0-e3b3-4541-ddab-590667fbb691"
      },
      "source": [
        "returnC = data[['Country', 'InvoiceNo']]\n",
        "returnC= returnC.pivot_table(columns='Country', aggfunc='count')\n",
        "returnC.sort_values('InvoiceNo', axis=1, ascending=False).T"
      ],
      "execution_count": 77,
      "outputs": [
        {
          "output_type": "execute_result",
          "data": {
            "text/html": [
              "<div>\n",
              "<style scoped>\n",
              "    .dataframe tbody tr th:only-of-type {\n",
              "        vertical-align: middle;\n",
              "    }\n",
              "\n",
              "    .dataframe tbody tr th {\n",
              "        vertical-align: top;\n",
              "    }\n",
              "\n",
              "    .dataframe thead th {\n",
              "        text-align: right;\n",
              "    }\n",
              "</style>\n",
              "<table border=\"1\" class=\"dataframe\">\n",
              "  <thead>\n",
              "    <tr style=\"text-align: right;\">\n",
              "      <th></th>\n",
              "      <th>InvoiceNo</th>\n",
              "    </tr>\n",
              "    <tr>\n",
              "      <th>Country</th>\n",
              "      <th></th>\n",
              "    </tr>\n",
              "  </thead>\n",
              "  <tbody>\n",
              "    <tr>\n",
              "      <th>United Kingdom</th>\n",
              "      <td>361878</td>\n",
              "    </tr>\n",
              "    <tr>\n",
              "      <th>Germany</th>\n",
              "      <td>9495</td>\n",
              "    </tr>\n",
              "    <tr>\n",
              "      <th>France</th>\n",
              "      <td>8491</td>\n",
              "    </tr>\n",
              "    <tr>\n",
              "      <th>EIRE</th>\n",
              "      <td>7485</td>\n",
              "    </tr>\n",
              "    <tr>\n",
              "      <th>Spain</th>\n",
              "      <td>2533</td>\n",
              "    </tr>\n",
              "    <tr>\n",
              "      <th>Netherlands</th>\n",
              "      <td>2371</td>\n",
              "    </tr>\n",
              "    <tr>\n",
              "      <th>Belgium</th>\n",
              "      <td>2069</td>\n",
              "    </tr>\n",
              "    <tr>\n",
              "      <th>Switzerland</th>\n",
              "      <td>1877</td>\n",
              "    </tr>\n",
              "    <tr>\n",
              "      <th>Portugal</th>\n",
              "      <td>1480</td>\n",
              "    </tr>\n",
              "    <tr>\n",
              "      <th>Australia</th>\n",
              "      <td>1259</td>\n",
              "    </tr>\n",
              "    <tr>\n",
              "      <th>Norway</th>\n",
              "      <td>1086</td>\n",
              "    </tr>\n",
              "    <tr>\n",
              "      <th>Italy</th>\n",
              "      <td>803</td>\n",
              "    </tr>\n",
              "    <tr>\n",
              "      <th>Channel Islands</th>\n",
              "      <td>758</td>\n",
              "    </tr>\n",
              "    <tr>\n",
              "      <th>Finland</th>\n",
              "      <td>695</td>\n",
              "    </tr>\n",
              "    <tr>\n",
              "      <th>Cyprus</th>\n",
              "      <td>622</td>\n",
              "    </tr>\n",
              "    <tr>\n",
              "      <th>Sweden</th>\n",
              "      <td>462</td>\n",
              "    </tr>\n",
              "    <tr>\n",
              "      <th>Austria</th>\n",
              "      <td>401</td>\n",
              "    </tr>\n",
              "    <tr>\n",
              "      <th>Denmark</th>\n",
              "      <td>389</td>\n",
              "    </tr>\n",
              "    <tr>\n",
              "      <th>Japan</th>\n",
              "      <td>358</td>\n",
              "    </tr>\n",
              "    <tr>\n",
              "      <th>Poland</th>\n",
              "      <td>341</td>\n",
              "    </tr>\n",
              "    <tr>\n",
              "      <th>USA</th>\n",
              "      <td>291</td>\n",
              "    </tr>\n",
              "    <tr>\n",
              "      <th>Israel</th>\n",
              "      <td>250</td>\n",
              "    </tr>\n",
              "    <tr>\n",
              "      <th>Unspecified</th>\n",
              "      <td>244</td>\n",
              "    </tr>\n",
              "    <tr>\n",
              "      <th>Singapore</th>\n",
              "      <td>229</td>\n",
              "    </tr>\n",
              "    <tr>\n",
              "      <th>Iceland</th>\n",
              "      <td>182</td>\n",
              "    </tr>\n",
              "    <tr>\n",
              "      <th>Canada</th>\n",
              "      <td>151</td>\n",
              "    </tr>\n",
              "    <tr>\n",
              "      <th>Greece</th>\n",
              "      <td>146</td>\n",
              "    </tr>\n",
              "    <tr>\n",
              "      <th>Malta</th>\n",
              "      <td>127</td>\n",
              "    </tr>\n",
              "    <tr>\n",
              "      <th>United Arab Emirates</th>\n",
              "      <td>68</td>\n",
              "    </tr>\n",
              "    <tr>\n",
              "      <th>European Community</th>\n",
              "      <td>61</td>\n",
              "    </tr>\n",
              "    <tr>\n",
              "      <th>RSA</th>\n",
              "      <td>58</td>\n",
              "    </tr>\n",
              "    <tr>\n",
              "      <th>Lebanon</th>\n",
              "      <td>45</td>\n",
              "    </tr>\n",
              "    <tr>\n",
              "      <th>Lithuania</th>\n",
              "      <td>35</td>\n",
              "    </tr>\n",
              "    <tr>\n",
              "      <th>Brazil</th>\n",
              "      <td>32</td>\n",
              "    </tr>\n",
              "    <tr>\n",
              "      <th>Czech Republic</th>\n",
              "      <td>30</td>\n",
              "    </tr>\n",
              "    <tr>\n",
              "      <th>Bahrain</th>\n",
              "      <td>17</td>\n",
              "    </tr>\n",
              "    <tr>\n",
              "      <th>Saudi Arabia</th>\n",
              "      <td>10</td>\n",
              "    </tr>\n",
              "  </tbody>\n",
              "</table>\n",
              "</div>"
            ],
            "text/plain": [
              "                      InvoiceNo\n",
              "Country                        \n",
              "United Kingdom           361878\n",
              "Germany                    9495\n",
              "France                     8491\n",
              "EIRE                       7485\n",
              "Spain                      2533\n",
              "Netherlands                2371\n",
              "Belgium                    2069\n",
              "Switzerland                1877\n",
              "Portugal                   1480\n",
              "Australia                  1259\n",
              "Norway                     1086\n",
              "Italy                       803\n",
              "Channel Islands             758\n",
              "Finland                     695\n",
              "Cyprus                      622\n",
              "Sweden                      462\n",
              "Austria                     401\n",
              "Denmark                     389\n",
              "Japan                       358\n",
              "Poland                      341\n",
              "USA                         291\n",
              "Israel                      250\n",
              "Unspecified                 244\n",
              "Singapore                   229\n",
              "Iceland                     182\n",
              "Canada                      151\n",
              "Greece                      146\n",
              "Malta                       127\n",
              "United Arab Emirates         68\n",
              "European Community           61\n",
              "RSA                          58\n",
              "Lebanon                      45\n",
              "Lithuania                    35\n",
              "Brazil                       32\n",
              "Czech Republic               30\n",
              "Bahrain                      17\n",
              "Saudi Arabia                 10"
            ]
          },
          "metadata": {
            "tags": []
          },
          "execution_count": 77
        }
      ]
    },
    {
      "cell_type": "code",
      "metadata": {
        "colab": {
          "base_uri": "https://localhost:8080/"
        },
        "id": "7YNLeAvpoOAW",
        "outputId": "e069ba82-b4d0-47f4-c19c-32526cae7f5a"
      },
      "source": [
        "data.isnull().sum()"
      ],
      "execution_count": null,
      "outputs": [
        {
          "output_type": "execute_result",
          "data": {
            "text/plain": [
              "InvoiceNo                     0\n",
              "StockCode                     0\n",
              "Description                 283\n",
              "Quantity                      0\n",
              "InvoiceDate                   0\n",
              "UnitPrice                     0\n",
              "CustomerID                32299\n",
              "Country                       0\n",
              "IsCancelled                   0\n",
              "Cancelled_Transactions        0\n",
              "dtype: int64"
            ]
          },
          "metadata": {
            "tags": []
          },
          "execution_count": 16
        }
      ]
    },
    {
      "cell_type": "markdown",
      "metadata": {
        "id": "ZDA-RRoPp6bf"
      },
      "source": [
        "\n",
        "Now, let’s proceed with replacing null features with zero values, as we need to have a clean dataset to perform operations with it."
      ]
    },
    {
      "cell_type": "code",
      "metadata": {
        "colab": {
          "base_uri": "https://localhost:8080/"
        },
        "id": "lvqMv9yVpmRP",
        "outputId": "99b8e101-72f9-40cc-aa07-12de5d9e3ccd"
      },
      "source": [
        "data.fillna(0, inplace=True)\n",
        "data.isnull().sum()"
      ],
      "execution_count": null,
      "outputs": [
        {
          "output_type": "execute_result",
          "data": {
            "text/plain": [
              "InvoiceNo                 0\n",
              "StockCode                 0\n",
              "Description               0\n",
              "Quantity                  0\n",
              "InvoiceDate               0\n",
              "UnitPrice                 0\n",
              "CustomerID                0\n",
              "Country                   0\n",
              "Cancelled_Transactions    0\n",
              "dtype: int64"
            ]
          },
          "metadata": {
            "tags": []
          },
          "execution_count": 24
        }
      ]
    },
    {
      "cell_type": "code",
      "metadata": {
        "colab": {
          "base_uri": "https://localhost:8080/",
          "height": 297
        },
        "id": "6xpvCnPy4quv",
        "outputId": "6cb5cf9f-3771-4da9-df99-5d7c5f8cba86"
      },
      "source": [
        "# Plotting InvoiceNo distribution per Country\n",
        "import seaborn as sns # Advanced data visualization\n",
        "plt.figure(figsize=(14,6))\n",
        "plt.title('Purchases from Countries');\n",
        "sns.countplot(y='Country', data=data)"
      ],
      "execution_count": 87,
      "outputs": [
        {
          "output_type": "execute_result",
          "data": {
            "text/plain": [
              "<matplotlib.axes._subplots.AxesSubplot at 0x7f5a34f57198>"
            ]
          },
          "metadata": {
            "tags": []
          },
          "execution_count": 87
        },
        {
          "output_type": "display_data",
          "data": {
            "image/png": "[encoded data removed]",
            "text/plain": [
              "<Figure size 1008x432 with 1 Axes>"
            ]
          },
          "metadata": {
            "tags": [],
            "needs_background": "light"
          }
        }
      ]
    },
    {
      "cell_type": "markdown",
      "metadata": {
        "id": "1UZ1CoJX6H60"
      },
      "source": [
        ""
      ]
    },
    {
      "cell_type": "markdown",
      "metadata": {
        "id": "Tuw6zZgRkR_i"
      },
      "source": [
        "Time Series model"
      ]
    }
  ]
}